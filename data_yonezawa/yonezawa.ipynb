{
 "cells": [
  {
   "cell_type": "code",
   "execution_count": 23,
   "metadata": {},
   "outputs": [],
   "source": [
    "import polars as pl\n",
    "import pandera as pa"
   ]
  },
  {
   "cell_type": "code",
   "execution_count": 62,
   "metadata": {},
   "outputs": [
    {
     "data": {
      "text/html": [
       "<div><style>\n",
       ".dataframe > thead > tr > th,\n",
       ".dataframe > tbody > tr > td {\n",
       "  text-align: right;\n",
       "}\n",
       "</style>\n",
       "<small>shape: (3, 10)</small><table border=\"1\" class=\"dataframe\"><thead><tr><th>stop_id</th><th>stop_code</th><th>stop_name</th><th>stop_desc</th><th>stop_lat</th><th>stop_lon</th><th>zone_id</th><th>stop_url</th><th>location_type</th><th>platform_code</th></tr><tr><td>str</td><td>str</td><td>str</td><td>str</td><td>f64</td><td>f64</td><td>str</td><td>str</td><td>i64</td><td>str</td></tr></thead><tbody><tr><td>&quot;1_01&quot;</td><td>null</td><td>&quot;米沢スキー場前&quot;</td><td>null</td><td>37.863098</td><td>140.231997</td><td>&quot;1_01&quot;</td><td>null</td><td>0</td><td>null</td></tr><tr><td>&quot;10_01&quot;</td><td>null</td><td>&quot;工業団地入口&quot;</td><td>null</td><td>37.895684</td><td>140.162863</td><td>&quot;10_01&quot;</td><td>null</td><td>0</td><td>null</td></tr><tr><td>&quot;10_02&quot;</td><td>null</td><td>&quot;工業団地入口&quot;</td><td>null</td><td>37.895615</td><td>140.163126</td><td>&quot;10_02&quot;</td><td>null</td><td>0</td><td>null</td></tr></tbody></table></div>"
      ],
      "text/plain": [
       "shape: (3, 10)\n",
       "┌─────────┬───────────┬─────────────┬───────────┬───┬─────────┬──────────┬────────────┬────────────┐\n",
       "│ stop_id ┆ stop_code ┆ stop_name   ┆ stop_desc ┆ … ┆ zone_id ┆ stop_url ┆ location_t ┆ platform_c │\n",
       "│ ---     ┆ ---       ┆ ---         ┆ ---       ┆   ┆ ---     ┆ ---      ┆ ype        ┆ ode        │\n",
       "│ str     ┆ str       ┆ str         ┆ str       ┆   ┆ str     ┆ str      ┆ ---        ┆ ---        │\n",
       "│         ┆           ┆             ┆           ┆   ┆         ┆          ┆ i64        ┆ str        │\n",
       "╞═════════╪═══════════╪═════════════╪═══════════╪═══╪═════════╪══════════╪════════════╪════════════╡\n",
       "│ 1_01    ┆ null      ┆ 米沢スキー  ┆ null      ┆ … ┆ 1_01    ┆ null     ┆ 0          ┆ null       │\n",
       "│         ┆           ┆ 場前        ┆           ┆   ┆         ┆          ┆            ┆            │\n",
       "│ 10_01   ┆ null      ┆ 工業団地入  ┆ null      ┆ … ┆ 10_01   ┆ null     ┆ 0          ┆ null       │\n",
       "│         ┆           ┆ 口          ┆           ┆   ┆         ┆          ┆            ┆            │\n",
       "│ 10_02   ┆ null      ┆ 工業団地入  ┆ null      ┆ … ┆ 10_02   ┆ null     ┆ 0          ┆ null       │\n",
       "│         ┆           ┆ 口          ┆           ┆   ┆         ┆          ┆            ┆            │\n",
       "└─────────┴───────────┴─────────────┴───────────┴───┴─────────┴──────────┴────────────┴────────────┘"
      ]
     },
     "execution_count": 62,
     "metadata": {},
     "output_type": "execute_result"
    }
   ],
   "source": [
    "stops = pl.read_csv('stops.txt')\n",
    "stops.head(3)"
   ]
  },
  {
   "cell_type": "code",
   "execution_count": 63,
   "metadata": {},
   "outputs": [],
   "source": [
    "stops = stops.with_columns(\n",
    "    pl.lit(None).cast(str).alias('parent_station')\n",
    ").select(\n",
    "    pl.col('stop_id').cast(str),\n",
    "    pl.col('stop_name').cast(str),\n",
    "    pl.col('parent_station'),\n",
    "    pl.col('platform_code').cast(str),\n",
    "    pl.col('stop_lat').cast(pl.Float64),\n",
    "    pl.col('stop_lon').cast(pl.Float64),\n",
    ")\n",
    "stops.write_parquet('stops.parquet')"
   ]
  },
  {
   "cell_type": "code",
   "execution_count": 26,
   "metadata": {},
   "outputs": [
    {
     "data": {
      "text/html": [
       "<div><style>\n",
       ".dataframe > thead > tr > th,\n",
       ".dataframe > tbody > tr > td {\n",
       "  text-align: right;\n",
       "}\n",
       "</style>\n",
       "<small>shape: (3, 9)</small><table border=\"1\" class=\"dataframe\"><thead><tr><th>trip_id</th><th>arrival_time</th><th>departure_time</th><th>stop_id</th><th>stop_sequence</th><th>stop_headsign</th><th>pickup_type</th><th>drop_off_type</th><th>shape_dist_traveled</th></tr><tr><td>str</td><td>str</td><td>str</td><td>str</td><td>i64</td><td>str</td><td>i64</td><td>i64</td><td>i64</td></tr></thead><tbody><tr><td>&quot;1全日夏期_07時00分_系…</td><td>&quot;07:00:00&quot;</td><td>&quot;07:00:00&quot;</td><td>&quot;26_01&quot;</td><td>1</td><td>&quot;米沢駅前&quot;</td><td>0</td><td>1</td><td>0</td></tr><tr><td>&quot;1全日夏期_07時00分_系…</td><td>&quot;07:01:00&quot;</td><td>&quot;07:01:00&quot;</td><td>&quot;38_01&quot;</td><td>2</td><td>&quot;米沢駅前&quot;</td><td>0</td><td>0</td><td>0</td></tr><tr><td>&quot;1全日夏期_07時00分_系…</td><td>&quot;07:02:00&quot;</td><td>&quot;07:02:00&quot;</td><td>&quot;39_01&quot;</td><td>3</td><td>&quot;米沢駅前&quot;</td><td>0</td><td>0</td><td>0</td></tr></tbody></table></div>"
      ],
      "text/plain": [
       "shape: (3, 9)\n",
       "┌────────────┬───────────┬───────────┬─────────┬───┬───────────┬───────────┬───────────┬───────────┐\n",
       "│ trip_id    ┆ arrival_t ┆ departure ┆ stop_id ┆ … ┆ stop_head ┆ pickup_ty ┆ drop_off_ ┆ shape_dis │\n",
       "│ ---        ┆ ime       ┆ _time     ┆ ---     ┆   ┆ sign      ┆ pe        ┆ type      ┆ t_travele │\n",
       "│ str        ┆ ---       ┆ ---       ┆ str     ┆   ┆ ---       ┆ ---       ┆ ---       ┆ d         │\n",
       "│            ┆ str       ┆ str       ┆         ┆   ┆ str       ┆ i64       ┆ i64       ┆ ---       │\n",
       "│            ┆           ┆           ┆         ┆   ┆           ┆           ┆           ┆ i64       │\n",
       "╞════════════╪═══════════╪═══════════╪═════════╪═══╪═══════════╪═══════════╪═══════════╪═══════════╡\n",
       "│ 1全日夏期_ ┆ 07:00:00  ┆ 07:00:00  ┆ 26_01   ┆ … ┆ 米沢駅前  ┆ 0         ┆ 1         ┆ 0         │\n",
       "│ 07時00分_  ┆           ┆           ┆         ┆   ┆           ┆           ┆           ┆           │\n",
       "│ 系統4181   ┆           ┆           ┆         ┆   ┆           ┆           ┆           ┆           │\n",
       "│ 1全日夏期_ ┆ 07:01:00  ┆ 07:01:00  ┆ 38_01   ┆ … ┆ 米沢駅前  ┆ 0         ┆ 0         ┆ 0         │\n",
       "│ 07時00分_  ┆           ┆           ┆         ┆   ┆           ┆           ┆           ┆           │\n",
       "│ 系統4181   ┆           ┆           ┆         ┆   ┆           ┆           ┆           ┆           │\n",
       "│ 1全日夏期_ ┆ 07:02:00  ┆ 07:02:00  ┆ 39_01   ┆ … ┆ 米沢駅前  ┆ 0         ┆ 0         ┆ 0         │\n",
       "│ 07時00分_  ┆           ┆           ┆         ┆   ┆           ┆           ┆           ┆           │\n",
       "│ 系統4181   ┆           ┆           ┆         ┆   ┆           ┆           ┆           ┆           │\n",
       "└────────────┴───────────┴───────────┴─────────┴───┴───────────┴───────────┴───────────┴───────────┘"
      ]
     },
     "execution_count": 26,
     "metadata": {},
     "output_type": "execute_result"
    }
   ],
   "source": [
    "stop_times = pl.read_csv('stop_times.txt')\n",
    "stop_times.head(3)"
   ]
  },
  {
   "cell_type": "code",
   "execution_count": 27,
   "metadata": {},
   "outputs": [],
   "source": [
    "stop_times = stop_times.select(\n",
    "    pl.col('trip_id').cast(str),\n",
    "    pl.col('stop_sequence').cast(pl.Int64),\n",
    "    pl.col('stop_id').cast(str),\n",
    "    pl.col('arrival_time').str.replace_all(':','').cast(pl.Int32),\n",
    "    pl.col('departure_time').str.replace_all(':','').cast(pl.Int32),\n",
    "    pl.col('pickup_type').cast(pl.Int32),\n",
    "    pl.col('drop_off_type').cast(pl.Int32),\n",
    ")\n",
    "stop_times.write_parquet('stop_times.parquet')"
   ]
  },
  {
   "cell_type": "code",
   "execution_count": 28,
   "metadata": {},
   "outputs": [
    {
     "data": {
      "text/html": [
       "<div><style>\n",
       ".dataframe > thead > tr > th,\n",
       ".dataframe > tbody > tr > td {\n",
       "  text-align: right;\n",
       "}\n",
       "</style>\n",
       "<small>shape: (3, 9)</small><table border=\"1\" class=\"dataframe\"><thead><tr><th>route_id</th><th>service_id</th><th>trip_id</th><th>trip_headsign</th><th>direction_id</th><th>block_id</th><th>trip_short_name</th><th>shape_id</th><th>jp_trip_desc</th></tr><tr><td>str</td><td>str</td><td>str</td><td>str</td><td>i64</td><td>str</td><td>str</td><td>str</td><td>str</td></tr></thead><tbody><tr><td>&quot;10B&quot;</td><td>&quot;平日土曜夏期&quot;</td><td>&quot;3平日土曜夏期_07時25分…</td><td>&quot;米沢市役所前&quot;</td><td>0</td><td>null</td><td>null</td><td>null</td><td>null</td></tr><tr><td>&quot;10B&quot;</td><td>&quot;平日土曜冬期&quot;</td><td>&quot;4平日土曜冬期_07時05分…</td><td>&quot;米沢市役所前&quot;</td><td>0</td><td>null</td><td>null</td><td>null</td><td>null</td></tr><tr><td>&quot;10B&quot;</td><td>&quot;平日土曜&quot;</td><td>&quot;5平日土曜_09時00分_系…</td><td>&quot;米沢市役所前&quot;</td><td>0</td><td>null</td><td>null</td><td>null</td><td>null</td></tr></tbody></table></div>"
      ],
      "text/plain": [
       "shape: (3, 9)\n",
       "┌──────────┬────────────┬────────────┬───────────┬───┬──────────┬───────────┬──────────┬───────────┐\n",
       "│ route_id ┆ service_id ┆ trip_id    ┆ trip_head ┆ … ┆ block_id ┆ trip_shor ┆ shape_id ┆ jp_trip_d │\n",
       "│ ---      ┆ ---        ┆ ---        ┆ sign      ┆   ┆ ---      ┆ t_name    ┆ ---      ┆ esc       │\n",
       "│ str      ┆ str        ┆ str        ┆ ---       ┆   ┆ str      ┆ ---       ┆ str      ┆ ---       │\n",
       "│          ┆            ┆            ┆ str       ┆   ┆          ┆ str       ┆          ┆ str       │\n",
       "╞══════════╪════════════╪════════════╪═══════════╪═══╪══════════╪═══════════╪══════════╪═══════════╡\n",
       "│ 10B      ┆ 平日土曜夏 ┆ 3平日土曜  ┆ 米沢市役  ┆ … ┆ null     ┆ null      ┆ null     ┆ null      │\n",
       "│          ┆ 期         ┆ 夏期_07時2 ┆ 所前      ┆   ┆          ┆           ┆          ┆           │\n",
       "│          ┆            ┆ 5分_系統41 ┆           ┆   ┆          ┆           ┆          ┆           │\n",
       "│          ┆            ┆ 41         ┆           ┆   ┆          ┆           ┆          ┆           │\n",
       "│ 10B      ┆ 平日土曜冬 ┆ 4平日土曜  ┆ 米沢市役  ┆ … ┆ null     ┆ null      ┆ null     ┆ null      │\n",
       "│          ┆ 期         ┆ 冬期_07時0 ┆ 所前      ┆   ┆          ┆           ┆          ┆           │\n",
       "│          ┆            ┆ 5分_系統41 ┆           ┆   ┆          ┆           ┆          ┆           │\n",
       "│          ┆            ┆ 41         ┆           ┆   ┆          ┆           ┆          ┆           │\n",
       "│ 10B      ┆ 平日土曜   ┆ 5平日土曜_ ┆ 米沢市役  ┆ … ┆ null     ┆ null      ┆ null     ┆ null      │\n",
       "│          ┆            ┆ 09時00分_  ┆ 所前      ┆   ┆          ┆           ┆          ┆           │\n",
       "│          ┆            ┆ 系統4141   ┆           ┆   ┆          ┆           ┆          ┆           │\n",
       "└──────────┴────────────┴────────────┴───────────┴───┴──────────┴───────────┴──────────┴───────────┘"
      ]
     },
     "execution_count": 28,
     "metadata": {},
     "output_type": "execute_result"
    }
   ],
   "source": [
    "trips = pl.read_csv('trips.txt')\n",
    "trips.head(3)"
   ]
  },
  {
   "cell_type": "code",
   "execution_count": 57,
   "metadata": {},
   "outputs": [
    {
     "data": {
      "text/html": [
       "<div><style>\n",
       ".dataframe > thead > tr > th,\n",
       ".dataframe > tbody > tr > td {\n",
       "  text-align: right;\n",
       "}\n",
       "</style>\n",
       "<small>shape: (3, 3)</small><table border=\"1\" class=\"dataframe\"><thead><tr><th>service_id</th><th>date</th><th>exception_type</th></tr><tr><td>str</td><td>i64</td><td>i64</td></tr></thead><tbody><tr><td>&quot;全日冬期&quot;</td><td>20220401</td><td>2</td></tr><tr><td>&quot;全日冬期&quot;</td><td>20220402</td><td>2</td></tr><tr><td>&quot;全日冬期&quot;</td><td>20220403</td><td>2</td></tr></tbody></table></div>"
      ],
      "text/plain": [
       "shape: (3, 3)\n",
       "┌────────────┬──────────┬────────────────┐\n",
       "│ service_id ┆ date     ┆ exception_type │\n",
       "│ ---        ┆ ---      ┆ ---            │\n",
       "│ str        ┆ i64      ┆ i64            │\n",
       "╞════════════╪══════════╪════════════════╡\n",
       "│ 全日冬期   ┆ 20220401 ┆ 2              │\n",
       "│ 全日冬期   ┆ 20220402 ┆ 2              │\n",
       "│ 全日冬期   ┆ 20220403 ┆ 2              │\n",
       "└────────────┴──────────┴────────────────┘"
      ]
     },
     "execution_count": 57,
     "metadata": {},
     "output_type": "execute_result"
    }
   ],
   "source": [
    "calendar = pl.read_csv('calendar_dates.txt')\n",
    "calendar.head(3)"
   ]
  },
  {
   "cell_type": "code",
   "execution_count": 60,
   "metadata": {},
   "outputs": [],
   "source": [
    "calendar = calendar.groupby(\n",
    "    \"date\", maintain_order=True\n",
    ").agg(\n",
    "    [pl.col('service_id')]\n",
    ").select(\n",
    "    pl.col('date').cast(str).str.to_date('%Y%m%d').alias('calendar_date'),\n",
    "    pl.col('service_id').alias('service_ids'),\n",
    ")\n",
    "calendar.write_parquet('calendar_dates.parquet')"
   ]
  },
  {
   "cell_type": "code",
   "execution_count": 61,
   "metadata": {},
   "outputs": [
    {
     "data": {
      "text/html": [
       "<div><style>\n",
       ".dataframe > thead > tr > th,\n",
       ".dataframe > tbody > tr > td {\n",
       "  text-align: right;\n",
       "}\n",
       "</style>\n",
       "<small>shape: (244, 2)</small><table border=\"1\" class=\"dataframe\"><thead><tr><th>calendar_date</th><th>service_ids</th></tr><tr><td>date</td><td>list[str]</td></tr></thead><tbody><tr><td>2022-04-01</td><td>[&quot;全日冬期&quot;, &quot;平日土曜冬期&quot;]</td></tr><tr><td>2022-04-02</td><td>[&quot;全日冬期&quot;, &quot;平日土曜冬期&quot;]</td></tr><tr><td>2022-04-03</td><td>[&quot;全日冬期&quot;, &quot;平日土曜冬期&quot;]</td></tr><tr><td>2022-04-04</td><td>[&quot;全日冬期&quot;, &quot;平日土曜冬期&quot;]</td></tr><tr><td>2022-04-05</td><td>[&quot;全日冬期&quot;, &quot;平日土曜冬期&quot;]</td></tr><tr><td>2022-04-06</td><td>[&quot;全日冬期&quot;, &quot;平日土曜冬期&quot;]</td></tr><tr><td>2022-04-07</td><td>[&quot;全日冬期&quot;, &quot;平日土曜冬期&quot;]</td></tr><tr><td>2022-04-08</td><td>[&quot;全日冬期&quot;, &quot;平日土曜冬期&quot;]</td></tr><tr><td>2022-04-09</td><td>[&quot;全日冬期&quot;, &quot;平日土曜冬期&quot;]</td></tr><tr><td>2022-04-10</td><td>[&quot;全日冬期&quot;, &quot;平日土曜冬期&quot;]</td></tr><tr><td>2022-04-11</td><td>[&quot;全日冬期&quot;, &quot;平日土曜冬期&quot;]</td></tr><tr><td>2022-04-12</td><td>[&quot;全日冬期&quot;, &quot;平日土曜冬期&quot;]</td></tr><tr><td>&hellip;</td><td>&hellip;</td></tr><tr><td>2022-11-19</td><td>[&quot;全日冬期&quot;, &quot;平日土曜冬期&quot;]</td></tr><tr><td>2022-11-20</td><td>[&quot;全日冬期&quot;, &quot;平日土曜冬期&quot;]</td></tr><tr><td>2022-11-21</td><td>[&quot;全日冬期&quot;, &quot;平日土曜冬期&quot;]</td></tr><tr><td>2022-11-22</td><td>[&quot;全日冬期&quot;, &quot;平日土曜冬期&quot;]</td></tr><tr><td>2022-11-23</td><td>[&quot;全日冬期&quot;, &quot;平日土曜&quot;, … &quot;平日土曜冬期&quot;]</td></tr><tr><td>2022-11-24</td><td>[&quot;全日冬期&quot;, &quot;平日土曜冬期&quot;]</td></tr><tr><td>2022-11-25</td><td>[&quot;全日冬期&quot;, &quot;平日土曜冬期&quot;]</td></tr><tr><td>2022-11-26</td><td>[&quot;全日冬期&quot;, &quot;平日土曜冬期&quot;]</td></tr><tr><td>2022-11-27</td><td>[&quot;全日冬期&quot;, &quot;平日土曜冬期&quot;]</td></tr><tr><td>2022-11-28</td><td>[&quot;全日冬期&quot;, &quot;平日土曜冬期&quot;]</td></tr><tr><td>2022-11-29</td><td>[&quot;全日冬期&quot;, &quot;平日土曜冬期&quot;]</td></tr><tr><td>2022-11-30</td><td>[&quot;全日冬期&quot;, &quot;平日土曜冬期&quot;]</td></tr></tbody></table></div>"
      ],
      "text/plain": [
       "shape: (244, 2)\n",
       "┌───────────────┬──────────────────────────────┐\n",
       "│ calendar_date ┆ service_ids                  │\n",
       "│ ---           ┆ ---                          │\n",
       "│ date          ┆ list[str]                    │\n",
       "╞═══════════════╪══════════════════════════════╡\n",
       "│ 2022-04-01    ┆ [\"全日冬期\", \"平日土曜冬期\"] │\n",
       "│ 2022-04-02    ┆ [\"全日冬期\", \"平日土曜冬期\"] │\n",
       "│ 2022-04-03    ┆ [\"全日冬期\", \"平日土曜冬期\"] │\n",
       "│ 2022-04-04    ┆ [\"全日冬期\", \"平日土曜冬期\"] │\n",
       "│ …             ┆ …                            │\n",
       "│ 2022-11-27    ┆ [\"全日冬期\", \"平日土曜冬期\"] │\n",
       "│ 2022-11-28    ┆ [\"全日冬期\", \"平日土曜冬期\"] │\n",
       "│ 2022-11-29    ┆ [\"全日冬期\", \"平日土曜冬期\"] │\n",
       "│ 2022-11-30    ┆ [\"全日冬期\", \"平日土曜冬期\"] │\n",
       "└───────────────┴──────────────────────────────┘"
      ]
     },
     "execution_count": 61,
     "metadata": {},
     "output_type": "execute_result"
    }
   ],
   "source": [
    "calendar"
   ]
  },
  {
   "cell_type": "code",
   "execution_count": 37,
   "metadata": {},
   "outputs": [
    {
     "data": {
      "text/html": [
       "<div><style>\n",
       ".dataframe > thead > tr > th,\n",
       ".dataframe > tbody > tr > td {\n",
       "  text-align: right;\n",
       "}\n",
       "</style>\n",
       "<small>shape: (0, 4)</small><table border=\"1\" class=\"dataframe\"><thead><tr><th>from_stop_id</th><th>to_stop_id</th><th>transfer_type</th><th>min_transfer_time</th></tr><tr><td>str</td><td>str</td><td>str</td><td>str</td></tr></thead><tbody></tbody></table></div>"
      ],
      "text/plain": [
       "shape: (0, 4)\n",
       "┌──────────────┬────────────┬───────────────┬───────────────────┐\n",
       "│ from_stop_id ┆ to_stop_id ┆ transfer_type ┆ min_transfer_time │\n",
       "│ ---          ┆ ---        ┆ ---           ┆ ---               │\n",
       "│ str          ┆ str        ┆ str           ┆ str               │\n",
       "╞══════════════╪════════════╪═══════════════╪═══════════════════╡\n",
       "└──────────────┴────────────┴───────────────┴───────────────────┘"
      ]
     },
     "execution_count": 37,
     "metadata": {},
     "output_type": "execute_result"
    }
   ],
   "source": [
    "transfers = pl.read_csv('transfers.txt')\n",
    "transfers.head(3)"
   ]
  },
  {
   "cell_type": "code",
   "execution_count": 38,
   "metadata": {},
   "outputs": [],
   "source": [
    "transfers = transfers.select(\n",
    "    pl.col('from_stop_id').cast(str),\n",
    "    pl.col('to_stop_id').cast(str),\n",
    "    pl.col('transfer_type').cast(pl.Int32),\n",
    "    pl.col('min_transfer_time').cast(pl.Int32)\n",
    ")\n",
    "transfers.write_parquet('transfers.parquet')"
   ]
  },
  {
   "cell_type": "code",
   "execution_count": null,
   "metadata": {},
   "outputs": [],
   "source": []
  }
 ],
 "metadata": {
  "kernelspec": {
   "display_name": ".venv",
   "language": "python",
   "name": "python3"
  },
  "language_info": {
   "codemirror_mode": {
    "name": "ipython",
    "version": 3
   },
   "file_extension": ".py",
   "mimetype": "text/x-python",
   "name": "python",
   "nbconvert_exporter": "python",
   "pygments_lexer": "ipython3",
   "version": "3.11.5"
  }
 },
 "nbformat": 4,
 "nbformat_minor": 2
}
