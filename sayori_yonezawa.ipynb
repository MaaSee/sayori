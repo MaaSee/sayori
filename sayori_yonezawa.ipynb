{
 "cells": [
  {
   "cell_type": "code",
   "execution_count": 1,
   "metadata": {},
   "outputs": [],
   "source": [
    "import polars as pl\n",
    "import pandas as pd\n",
    "import geopandas as gpd"
   ]
  },
  {
   "cell_type": "code",
   "execution_count": 2,
   "metadata": {},
   "outputs": [
    {
     "data": {
      "text/html": [
       "<div><style>\n",
       ".dataframe > thead > tr > th,\n",
       ".dataframe > tbody > tr > td {\n",
       "  text-align: right;\n",
       "}\n",
       "</style>\n",
       "<small>shape: (10, 12)</small><table border=\"1\" class=\"dataframe\"><thead><tr><th>d_key</th><th>o_key</th><th>datetime</th><th>hour</th><th>move_count</th><th>weekday_holiday_flag</th><th>o_mesh_4</th><th>o_stop_name</th><th>o_agency</th><th>d_mesh_4</th><th>d_stop_name</th><th>d_agency</th></tr><tr><td>str</td><td>str</td><td>datetime[ns]</td><td>i32</td><td>i32</td><td>str</td><td>i64</td><td>str</td><td>str</td><td>i64</td><td>str</td><td>str</td></tr></thead><tbody><tr><td>&quot;54_01&quot;</td><td>&quot;70_01&quot;</td><td>2022-05-02 00:00:00</td><td>12</td><td>1</td><td>&quot;w&quot;</td><td>564070091</td><td>&quot;金池一丁目&quot;</td><td>&quot;yonezawa_city&quot;</td><td>564060873</td><td>&quot;西部こども園前&quot;</td><td>&quot;yonezawa_city&quot;</td></tr><tr><td>&quot;41_02&quot;</td><td>&quot;48_02&quot;</td><td>2022-05-13 00:00:00</td><td>13</td><td>1</td><td>&quot;h&quot;</td><td>564060982</td><td>&quot;上杉神社前&quot;</td><td>&quot;yonezawa_city&quot;</td><td>564060893</td><td>&quot;県営相生ｱﾊﾟｰﾄ東&quot;</td><td>&quot;yonezawa_city&quot;</td></tr><tr><td>&quot;56_02&quot;</td><td>&quot;53_02&quot;</td><td>2022-05-04 00:00:00</td><td>10</td><td>1</td><td>&quot;w&quot;</td><td>564060874</td><td>&quot;愛宕小前&quot;</td><td>&quot;yonezawa_city&quot;</td><td>564060973</td><td>&quot;西部ｺﾐｭﾆﾃｨｾﾝﾀｰ前&quot;</td><td>&quot;yonezawa_city&quot;</td></tr><tr><td>&quot;64_01&quot;</td><td>&quot;46_02&quot;</td><td>2022-05-13 00:00:00</td><td>15</td><td>1</td><td>&quot;h&quot;</td><td>564060884</td><td>&quot;大町一丁目&quot;</td><td>&quot;yonezawa_city&quot;</td><td>564070083</td><td>&quot;信夫町&quot;</td><td>&quot;yonezawa_city&quot;</td></tr><tr><td>&quot;53_02&quot;</td><td>&quot;1_01&quot;</td><td>2022-05-30 00:00:00</td><td>7</td><td>1</td><td>&quot;w&quot;</td><td>564061384</td><td>&quot;米沢スキー場前&quot;</td><td>&quot;yonezawa_city&quot;</td><td>564060874</td><td>&quot;愛宕小前&quot;</td><td>&quot;yonezawa_city&quot;</td></tr><tr><td>&quot;34_01&quot;</td><td>&quot;80_02&quot;</td><td>2022-05-07 00:00:00</td><td>22</td><td>1</td><td>&quot;h&quot;</td><td>564060693</td><td>&quot;太田町五丁目&quot;</td><td>&quot;yonezawa_city&quot;</td><td>564070082</td><td>&quot;中央三丁目&quot;</td><td>&quot;yonezawa_city&quot;</td></tr><tr><td>&quot;52_01&quot;</td><td>&quot;58_01&quot;</td><td>2022-05-26 00:00:00</td><td>21</td><td>1</td><td>&quot;h&quot;</td><td>564070072</td><td>&quot;すこやかセンター&quot;</td><td>&quot;yonezawa_city&quot;</td><td>564060872</td><td>&quot;二中前&quot;</td><td>&quot;yonezawa_city&quot;</td></tr><tr><td>&quot;12_02&quot;</td><td>&quot;27_02&quot;</td><td>2022-05-31 00:00:00</td><td>17</td><td>1</td><td>&quot;w&quot;</td><td>564060992</td><td>&quot;米沢営業所&quot;</td><td>&quot;yonezawa_city&quot;</td><td>564061831</td><td>&quot;万世小学校前&quot;</td><td>&quot;yonezawa_city&quot;</td></tr><tr><td>&quot;86_02&quot;</td><td>&quot;52_02&quot;</td><td>2022-05-16 00:00:00</td><td>16</td><td>1</td><td>&quot;w&quot;</td><td>564060872</td><td>&quot;二中前&quot;</td><td>&quot;yonezawa_city&quot;</td><td>564060884</td><td>&quot;九里学園前&quot;</td><td>&quot;yonezawa_city&quot;</td></tr><tr><td>&quot;12_02&quot;</td><td>&quot;28_01&quot;</td><td>2022-05-30 00:00:00</td><td>12</td><td>1</td><td>&quot;w&quot;</td><td>564060992</td><td>&quot;駅前四丁目&quot;</td><td>&quot;yonezawa_city&quot;</td><td>564061831</td><td>&quot;万世小学校前&quot;</td><td>&quot;yonezawa_city&quot;</td></tr></tbody></table></div>"
      ],
      "text/plain": [
       "shape: (10, 12)\n",
       "┌───────┬───────┬──────────────┬──────┬───┬──────────────┬───────────┬──────────────┬──────────────┐\n",
       "│ d_key ┆ o_key ┆ datetime     ┆ hour ┆ … ┆ o_agency     ┆ d_mesh_4  ┆ d_stop_name  ┆ d_agency     │\n",
       "│ ---   ┆ ---   ┆ ---          ┆ ---  ┆   ┆ ---          ┆ ---       ┆ ---          ┆ ---          │\n",
       "│ str   ┆ str   ┆ datetime[ns] ┆ i32  ┆   ┆ str          ┆ i64       ┆ str          ┆ str          │\n",
       "╞═══════╪═══════╪══════════════╪══════╪═══╪══════════════╪═══════════╪══════════════╪══════════════╡\n",
       "│ 54_01 ┆ 70_01 ┆ 2022-05-02   ┆ 12   ┆ … ┆ yonezawa_cit ┆ 564060873 ┆ 西部こども園 ┆ yonezawa_cit │\n",
       "│       ┆       ┆ 00:00:00     ┆      ┆   ┆ y            ┆           ┆ 前           ┆ y            │\n",
       "│ 41_02 ┆ 48_02 ┆ 2022-05-13   ┆ 13   ┆ … ┆ yonezawa_cit ┆ 564060893 ┆ 県営相生ｱﾊﾟｰ ┆ yonezawa_cit │\n",
       "│       ┆       ┆ 00:00:00     ┆      ┆   ┆ y            ┆           ┆ ﾄ東          ┆ y            │\n",
       "│ 56_02 ┆ 53_02 ┆ 2022-05-04   ┆ 10   ┆ … ┆ yonezawa_cit ┆ 564060973 ┆ 西部ｺﾐｭﾆﾃｨｾﾝ ┆ yonezawa_cit │\n",
       "│       ┆       ┆ 00:00:00     ┆      ┆   ┆ y            ┆           ┆ ﾀｰ前         ┆ y            │\n",
       "│ 64_01 ┆ 46_02 ┆ 2022-05-13   ┆ 15   ┆ … ┆ yonezawa_cit ┆ 564070083 ┆ 信夫町       ┆ yonezawa_cit │\n",
       "│       ┆       ┆ 00:00:00     ┆      ┆   ┆ y            ┆           ┆              ┆ y            │\n",
       "│ …     ┆ …     ┆ …            ┆ …    ┆ … ┆ …            ┆ …         ┆ …            ┆ …            │\n",
       "│ 52_01 ┆ 58_01 ┆ 2022-05-26   ┆ 21   ┆ … ┆ yonezawa_cit ┆ 564060872 ┆ 二中前       ┆ yonezawa_cit │\n",
       "│       ┆       ┆ 00:00:00     ┆      ┆   ┆ y            ┆           ┆              ┆ y            │\n",
       "│ 12_02 ┆ 27_02 ┆ 2022-05-31   ┆ 17   ┆ … ┆ yonezawa_cit ┆ 564061831 ┆ 万世小学校前 ┆ yonezawa_cit │\n",
       "│       ┆       ┆ 00:00:00     ┆      ┆   ┆ y            ┆           ┆              ┆ y            │\n",
       "│ 86_02 ┆ 52_02 ┆ 2022-05-16   ┆ 16   ┆ … ┆ yonezawa_cit ┆ 564060884 ┆ 九里学園前   ┆ yonezawa_cit │\n",
       "│       ┆       ┆ 00:00:00     ┆      ┆   ┆ y            ┆           ┆              ┆ y            │\n",
       "│ 12_02 ┆ 28_01 ┆ 2022-05-30   ┆ 12   ┆ … ┆ yonezawa_cit ┆ 564061831 ┆ 万世小学校前 ┆ yonezawa_cit │\n",
       "│       ┆       ┆ 00:00:00     ┆      ┆   ┆ y            ┆           ┆              ┆ y            │\n",
       "└───────┴───────┴──────────────┴──────┴───┴──────────────┴───────────┴──────────────┴──────────────┘"
      ]
     },
     "execution_count": 2,
     "metadata": {},
     "output_type": "execute_result"
    }
   ],
   "source": [
    "# odsの中身の確認\n",
    "ods = pl.read_parquet('/Users/nagampere/File/Python/sayori/od_yonezawa_based_stop_id.parquet/part-00002-tid-7597389897474560305-7a8f602a-b508-4487-af54-55d4c76e5e85-38-1.c000.snappy.parquet')\n",
    "ods.head(10)"
   ]
  },
  {
   "cell_type": "code",
   "execution_count": 3,
   "metadata": {},
   "outputs": [
    {
     "name": "stdout",
     "output_type": "stream",
     "text": [
      "{'origin_stop_ids': ['70_01'], 'destination_stop_ids': ['54_01'], 'specified_date': '2022-05-02', 'specified_secs': 43200, 'transfers_limit': 0, 'is_reverse_search': True, 'available_trip_ids': None}\n"
     ]
    },
    {
     "data": {
      "text/html": [
       "<div><style>\n",
       ".dataframe > thead > tr > th,\n",
       ".dataframe > tbody > tr > td {\n",
       "  text-align: right;\n",
       "}\n",
       "</style>\n",
       "<small>shape: (10, 13)</small><table border=\"1\" class=\"dataframe\"><thead><tr><th>d_key</th><th>o_key</th><th>datetime</th><th>hour</th><th>move_count</th><th>weekday_holiday_flag</th><th>o_mesh_4</th><th>o_stop_name</th><th>o_agency</th><th>d_mesh_4</th><th>d_stop_name</th><th>d_agency</th><th>parameters</th></tr><tr><td>str</td><td>str</td><td>datetime[ns]</td><td>i32</td><td>i32</td><td>str</td><td>i64</td><td>str</td><td>str</td><td>i64</td><td>str</td><td>str</td><td>struct[7]</td></tr></thead><tbody><tr><td>&quot;54_01&quot;</td><td>&quot;70_01&quot;</td><td>2022-05-02 00:00:00</td><td>12</td><td>1</td><td>&quot;w&quot;</td><td>564070091</td><td>&quot;金池一丁目&quot;</td><td>&quot;yonezawa_city&quot;</td><td>564060873</td><td>&quot;西部こども園前&quot;</td><td>&quot;yonezawa_city&quot;</td><td>{[&quot;70_01&quot;],[&quot;54_01&quot;],&quot;2022-05-02&quot;,43200,0,true,null}</td></tr><tr><td>&quot;41_02&quot;</td><td>&quot;48_02&quot;</td><td>2022-05-13 00:00:00</td><td>13</td><td>1</td><td>&quot;h&quot;</td><td>564060982</td><td>&quot;上杉神社前&quot;</td><td>&quot;yonezawa_city&quot;</td><td>564060893</td><td>&quot;県営相生ｱﾊﾟｰﾄ東&quot;</td><td>&quot;yonezawa_city&quot;</td><td>{[&quot;48_02&quot;],[&quot;41_02&quot;],&quot;2022-05-13&quot;,46800,0,true,null}</td></tr><tr><td>&quot;56_02&quot;</td><td>&quot;53_02&quot;</td><td>2022-05-04 00:00:00</td><td>10</td><td>1</td><td>&quot;w&quot;</td><td>564060874</td><td>&quot;愛宕小前&quot;</td><td>&quot;yonezawa_city&quot;</td><td>564060973</td><td>&quot;西部ｺﾐｭﾆﾃｨｾﾝﾀｰ前&quot;</td><td>&quot;yonezawa_city&quot;</td><td>{[&quot;53_02&quot;],[&quot;56_02&quot;],&quot;2022-05-04&quot;,36000,0,true,null}</td></tr><tr><td>&quot;64_01&quot;</td><td>&quot;46_02&quot;</td><td>2022-05-13 00:00:00</td><td>15</td><td>1</td><td>&quot;h&quot;</td><td>564060884</td><td>&quot;大町一丁目&quot;</td><td>&quot;yonezawa_city&quot;</td><td>564070083</td><td>&quot;信夫町&quot;</td><td>&quot;yonezawa_city&quot;</td><td>{[&quot;46_02&quot;],[&quot;64_01&quot;],&quot;2022-05-13&quot;,54000,0,true,null}</td></tr><tr><td>&quot;53_02&quot;</td><td>&quot;1_01&quot;</td><td>2022-05-30 00:00:00</td><td>7</td><td>1</td><td>&quot;w&quot;</td><td>564061384</td><td>&quot;米沢スキー場前&quot;</td><td>&quot;yonezawa_city&quot;</td><td>564060874</td><td>&quot;愛宕小前&quot;</td><td>&quot;yonezawa_city&quot;</td><td>{[&quot;1_01&quot;],[&quot;53_02&quot;],&quot;2022-05-30&quot;,25200,0,true,null}</td></tr><tr><td>&quot;34_01&quot;</td><td>&quot;80_02&quot;</td><td>2022-05-07 00:00:00</td><td>22</td><td>1</td><td>&quot;h&quot;</td><td>564060693</td><td>&quot;太田町五丁目&quot;</td><td>&quot;yonezawa_city&quot;</td><td>564070082</td><td>&quot;中央三丁目&quot;</td><td>&quot;yonezawa_city&quot;</td><td>{[&quot;80_02&quot;],[&quot;34_01&quot;],&quot;2022-05-07&quot;,79200,0,true,null}</td></tr><tr><td>&quot;52_01&quot;</td><td>&quot;58_01&quot;</td><td>2022-05-26 00:00:00</td><td>21</td><td>1</td><td>&quot;h&quot;</td><td>564070072</td><td>&quot;すこやかセンター&quot;</td><td>&quot;yonezawa_city&quot;</td><td>564060872</td><td>&quot;二中前&quot;</td><td>&quot;yonezawa_city&quot;</td><td>{[&quot;58_01&quot;],[&quot;52_01&quot;],&quot;2022-05-26&quot;,75600,0,true,null}</td></tr><tr><td>&quot;12_02&quot;</td><td>&quot;27_02&quot;</td><td>2022-05-31 00:00:00</td><td>17</td><td>1</td><td>&quot;w&quot;</td><td>564060992</td><td>&quot;米沢営業所&quot;</td><td>&quot;yonezawa_city&quot;</td><td>564061831</td><td>&quot;万世小学校前&quot;</td><td>&quot;yonezawa_city&quot;</td><td>{[&quot;27_02&quot;],[&quot;12_02&quot;],&quot;2022-05-31&quot;,61200,0,true,null}</td></tr><tr><td>&quot;86_02&quot;</td><td>&quot;52_02&quot;</td><td>2022-05-16 00:00:00</td><td>16</td><td>1</td><td>&quot;w&quot;</td><td>564060872</td><td>&quot;二中前&quot;</td><td>&quot;yonezawa_city&quot;</td><td>564060884</td><td>&quot;九里学園前&quot;</td><td>&quot;yonezawa_city&quot;</td><td>{[&quot;52_02&quot;],[&quot;86_02&quot;],&quot;2022-05-16&quot;,57600,0,true,null}</td></tr><tr><td>&quot;12_02&quot;</td><td>&quot;28_01&quot;</td><td>2022-05-30 00:00:00</td><td>12</td><td>1</td><td>&quot;w&quot;</td><td>564060992</td><td>&quot;駅前四丁目&quot;</td><td>&quot;yonezawa_city&quot;</td><td>564061831</td><td>&quot;万世小学校前&quot;</td><td>&quot;yonezawa_city&quot;</td><td>{[&quot;28_01&quot;],[&quot;12_02&quot;],&quot;2022-05-30&quot;,43200,0,true,null}</td></tr></tbody></table></div>"
      ],
      "text/plain": [
       "shape: (10, 13)\n",
       "┌───────┬───────┬──────────────┬──────┬───┬───────────┬──────────────┬──────────────┬──────────────┐\n",
       "│ d_key ┆ o_key ┆ datetime     ┆ hour ┆ … ┆ d_mesh_4  ┆ d_stop_name  ┆ d_agency     ┆ parameters   │\n",
       "│ ---   ┆ ---   ┆ ---          ┆ ---  ┆   ┆ ---       ┆ ---          ┆ ---          ┆ ---          │\n",
       "│ str   ┆ str   ┆ datetime[ns] ┆ i32  ┆   ┆ i64       ┆ str          ┆ str          ┆ struct[7]    │\n",
       "╞═══════╪═══════╪══════════════╪══════╪═══╪═══════════╪══════════════╪══════════════╪══════════════╡\n",
       "│ 54_01 ┆ 70_01 ┆ 2022-05-02   ┆ 12   ┆ … ┆ 564060873 ┆ 西部こども園 ┆ yonezawa_cit ┆ {[\"70_01\"],[ │\n",
       "│       ┆       ┆ 00:00:00     ┆      ┆   ┆           ┆ 前           ┆ y            ┆ \"54_01\"],\"20 │\n",
       "│       ┆       ┆              ┆      ┆   ┆           ┆              ┆              ┆ 22-05-02…    │\n",
       "│ 41_02 ┆ 48_02 ┆ 2022-05-13   ┆ 13   ┆ … ┆ 564060893 ┆ 県営相生ｱﾊﾟｰ ┆ yonezawa_cit ┆ {[\"48_02\"],[ │\n",
       "│       ┆       ┆ 00:00:00     ┆      ┆   ┆           ┆ ﾄ東          ┆ y            ┆ \"41_02\"],\"20 │\n",
       "│       ┆       ┆              ┆      ┆   ┆           ┆              ┆              ┆ 22-05-13…    │\n",
       "│ 56_02 ┆ 53_02 ┆ 2022-05-04   ┆ 10   ┆ … ┆ 564060973 ┆ 西部ｺﾐｭﾆﾃｨｾﾝ ┆ yonezawa_cit ┆ {[\"53_02\"],[ │\n",
       "│       ┆       ┆ 00:00:00     ┆      ┆   ┆           ┆ ﾀｰ前         ┆ y            ┆ \"56_02\"],\"20 │\n",
       "│       ┆       ┆              ┆      ┆   ┆           ┆              ┆              ┆ 22-05-04…    │\n",
       "│ 64_01 ┆ 46_02 ┆ 2022-05-13   ┆ 15   ┆ … ┆ 564070083 ┆ 信夫町       ┆ yonezawa_cit ┆ {[\"46_02\"],[ │\n",
       "│       ┆       ┆ 00:00:00     ┆      ┆   ┆           ┆              ┆ y            ┆ \"64_01\"],\"20 │\n",
       "│       ┆       ┆              ┆      ┆   ┆           ┆              ┆              ┆ 22-05-13…    │\n",
       "│ …     ┆ …     ┆ …            ┆ …    ┆ … ┆ …         ┆ …            ┆ …            ┆ …            │\n",
       "│ 52_01 ┆ 58_01 ┆ 2022-05-26   ┆ 21   ┆ … ┆ 564060872 ┆ 二中前       ┆ yonezawa_cit ┆ {[\"58_01\"],[ │\n",
       "│       ┆       ┆ 00:00:00     ┆      ┆   ┆           ┆              ┆ y            ┆ \"52_01\"],\"20 │\n",
       "│       ┆       ┆              ┆      ┆   ┆           ┆              ┆              ┆ 22-05-26…    │\n",
       "│ 12_02 ┆ 27_02 ┆ 2022-05-31   ┆ 17   ┆ … ┆ 564061831 ┆ 万世小学校前 ┆ yonezawa_cit ┆ {[\"27_02\"],[ │\n",
       "│       ┆       ┆ 00:00:00     ┆      ┆   ┆           ┆              ┆ y            ┆ \"12_02\"],\"20 │\n",
       "│       ┆       ┆              ┆      ┆   ┆           ┆              ┆              ┆ 22-05-31…    │\n",
       "│ 86_02 ┆ 52_02 ┆ 2022-05-16   ┆ 16   ┆ … ┆ 564060884 ┆ 九里学園前   ┆ yonezawa_cit ┆ {[\"52_02\"],[ │\n",
       "│       ┆       ┆ 00:00:00     ┆      ┆   ┆           ┆              ┆ y            ┆ \"86_02\"],\"20 │\n",
       "│       ┆       ┆              ┆      ┆   ┆           ┆              ┆              ┆ 22-05-16…    │\n",
       "│ 12_02 ┆ 28_01 ┆ 2022-05-30   ┆ 12   ┆ … ┆ 564061831 ┆ 万世小学校前 ┆ yonezawa_cit ┆ {[\"28_01\"],[ │\n",
       "│       ┆       ┆ 00:00:00     ┆      ┆   ┆           ┆              ┆ y            ┆ \"12_02\"],\"20 │\n",
       "│       ┆       ┆              ┆      ┆   ┆           ┆              ┆              ┆ 22-05-30…    │\n",
       "└───────┴───────┴──────────────┴──────┴───┴───────────┴──────────────┴──────────────┴──────────────┘"
      ]
     },
     "execution_count": 3,
     "metadata": {},
     "output_type": "execute_result"
    }
   ],
   "source": [
    "import json\n",
    "ods_parameters = ods.with_columns(\n",
    "    pl.struct(\n",
    "        pl.concat_list(pl.col('o_key')).alias(\"origin_stop_ids\"),\n",
    "        # pl.concat_list(pl.lit(\"26_01\")).alias(\"origin_stop_ids\"),\n",
    "        pl.concat_list(pl.col('d_key')).alias(\"destination_stop_ids\"),\n",
    "        # pl.concat_list(pl.lit(\"42_01\")).alias(\"destination_stop_ids\"),\n",
    "        pl.col('datetime').cast(pl.Date).cast(str).alias(\"specified_date\"),\n",
    "        # pl.lit(\"2022-06-20\").alias(\"specified_date\"),\n",
    "        (pl.col('hour')*60*60).alias(\"specified_secs\"),\n",
    "        # (pl.lit('80000')).alias(\"specified_secs\"),\n",
    "        pl.lit(0).alias(\"transfers_limit\"),\n",
    "        pl.lit(True).alias(\"is_reverse_search\"),\n",
    "        pl.lit(None).cast(str).alias(\"available_trip_ids\")\n",
    "    ).alias(\"parameters\")\n",
    ")\n",
    "print(ods_parameters[0,12])\n",
    "ods_parameters.head(10)\n"
   ]
  },
  {
   "cell_type": "code",
   "execution_count": 4,
   "metadata": {},
   "outputs": [],
   "source": [
    "# transferデータの修正\n",
    "stops = pd.read_csv('data_yonezawa/stops.txt')"
   ]
  },
  {
   "cell_type": "code",
   "execution_count": 15,
   "metadata": {},
   "outputs": [],
   "source": [
    "pdf_stops = gpd.GeoDataFrame(\n",
    "    stops,\n",
    "    geometry=gpd.GeoSeries.from_xy(stops['stop_lon'], \n",
    "                                   stops['stop_lat'],\n",
    "                                   crs=\"EPSG:4326\")\n",
    ").to_crs(6678)\n",
    "\n",
    "s = gpd.GeoSeries.from_xy(stops['stop_lon'],\n",
    "                          stops['stop_lat'],\n",
    "                          crs=\"EPSG:4326\").to_crs(6678)\n",
    "\n",
    "pdf_stops = pdf_stops.sjoin_nearest(pdf_stops[['stop_id','stop_name','geometry']],\n",
    "                                    how='left',\n",
    "                                    max_distance=80*30,\n",
    "                                    distance_col='distance',\n",
    "                                    exclusive = True)\n",
    "pdf_stops = pdf_stops[pdf_stops['stop_name_left']!=pdf_stops['stop_name_right']]\n",
    "pdf_stops = pdf_stops.dropna(subset=['stop_name_right'])"
   ]
  },
  {
   "cell_type": "code",
   "execution_count": 21,
   "metadata": {},
   "outputs": [
    {
     "data": {
      "text/plain": [
       "from_stop_id         object\n",
       "to_stop_id           object\n",
       "transfer_type         int32\n",
       "min_transfer_time     int32\n",
       "dtype: object"
      ]
     },
     "execution_count": 21,
     "metadata": {},
     "output_type": "execute_result"
    }
   ],
   "source": [
    "transfers = pd.DataFrame()\n",
    "transfers['from_stop_id'] = pdf_stops['stop_id_left'].astype(str)\n",
    "transfers['to_stop_id'] = pdf_stops['stop_id_right'].astype(str)\n",
    "transfers['transfer_type'] = 2\n",
    "transfers['transfer_type'] = transfers['transfer_type'].astype('i4')\n",
    "transfers['min_transfer_time'] = pdf_stops['distance'] // 80\n",
    "transfers['min_transfer_time'] = transfers['min_transfer_time'].apply(lambda x: 1 if x == 0 else x)\n",
    "transfers['min_transfer_time'] = transfers['min_transfer_time'].astype('i4')\n",
    "transfers.reset_index(inplace=True,\n",
    "                      drop=True)\n",
    "transfers.to_parquet('data_yonezawa/transfers.parquet')\n",
    "transfers.dtypes"
   ]
  },
  {
   "cell_type": "code",
   "execution_count": 17,
   "metadata": {},
   "outputs": [],
   "source": [
    "import os\n",
    "import time\n",
    "import json\n",
    "\n",
    "from sayori.raptor import search_p2p_geojson, search_p2p_path\n",
    "from sayori.models import FeedPath, Feed"
   ]
  },
  {
   "cell_type": "code",
   "execution_count": 18,
   "metadata": {},
   "outputs": [],
   "source": [
    "def load_data_from_path() -> FeedPath:\n",
    "    feed_path = {\n",
    "        \"stops\": os.environ.get(\"STOPS_PATH\"),\n",
    "        \"trips\": os.environ.get(\"TRIPS_PATH\"),\n",
    "        \"stop_times\": os.environ.get(\"STOP_TIMES_PATH\"),\n",
    "        \"transfers\": os.environ.get(\"TRANSFERS_PATH\"),\n",
    "        \"calendar\": os.environ.get(\"CALENDAR_PATH\"),\n",
    "    }\n",
    "\n",
    "    return FeedPath.parse_obj(feed_path)\n",
    "\n",
    "feed_path = load_data_from_path()\n",
    "feed = Feed.from_feed_path(feed_path)"
   ]
  },
  {
   "cell_type": "code",
   "execution_count": 19,
   "metadata": {},
   "outputs": [
    {
     "name": "stdout",
     "output_type": "stream",
     "text": [
      "<class 'list'>\n",
      "<class 'list'>\n",
      "{'type': 'FeatureCollection', 'features': [{'type': 'Feature', 'geometry': {'type': 'LineString', 'coordinates': [[140.128138, 37.909013], [140.12512, 37.909219], [140.122879, 37.909106], [140.117623, 37.907855], [140.118408, 37.905467]]}, 'properties': {'time_to_reach': 15500, 'routing_path': ['26_01', '38_01', '39_01', '40_01', '42_01'], 'routing_path_optional': array([('2全日冬期_06時45分_系統4181', 1, '26_01'),\n",
      "       ('2全日冬期_06時45分_系統4181', 2, '38_01'),\n",
      "       ('2全日冬期_06時45分_系統4181', 3, '39_01'),\n",
      "       ('2全日冬期_06時45分_系統4181', 4, '40_01'),\n",
      "       ('2全日冬期_06時45分_系統4181', 5, '42_01')],\n",
      "      dtype=[('trip_id', 'O'), ('stop_sequence', '<i8'), ('stop_id', 'O')]), 'preceding': ['2全日冬期_06時45分_系統4181'], 'stop_id': '26_01'}}]}\n"
     ]
    },
    {
     "data": {
      "text/html": [
       "<div><style>\n",
       ".dataframe > thead > tr > th,\n",
       ".dataframe > tbody > tr > td {\n",
       "  text-align: right;\n",
       "}\n",
       "</style>\n",
       "<small>shape: (20_480, 14)</small><table border=\"1\" class=\"dataframe\"><thead><tr><th>d_key</th><th>o_key</th><th>datetime</th><th>hour</th><th>move_count</th><th>weekday_holiday_flag</th><th>o_mesh_4</th><th>o_stop_name</th><th>o_agency</th><th>d_mesh_4</th><th>d_stop_name</th><th>d_agency</th><th>parameters</th><th>res</th></tr><tr><td>str</td><td>str</td><td>datetime[ns]</td><td>i32</td><td>i32</td><td>str</td><td>i64</td><td>str</td><td>str</td><td>i64</td><td>str</td><td>str</td><td>struct[7]</td><td>str</td></tr></thead><tbody><tr><td>&quot;54_01&quot;</td><td>&quot;70_01&quot;</td><td>2022-05-02 00:00:00</td><td>12</td><td>1</td><td>&quot;w&quot;</td><td>564070091</td><td>&quot;金池一丁目&quot;</td><td>&quot;yonezawa_city&quot;</td><td>564060873</td><td>&quot;西部こども園前&quot;</td><td>&quot;yonezawa_city&quot;</td><td>{[&quot;70_01&quot;],[&quot;54_01&quot;],&quot;2022-05-02&quot;,43200,0,true,null}</td><td>&quot;None&quot;</td></tr><tr><td>&quot;41_02&quot;</td><td>&quot;48_02&quot;</td><td>2022-05-13 00:00:00</td><td>13</td><td>1</td><td>&quot;h&quot;</td><td>564060982</td><td>&quot;上杉神社前&quot;</td><td>&quot;yonezawa_city&quot;</td><td>564060893</td><td>&quot;県営相生ｱﾊﾟｰﾄ東&quot;</td><td>&quot;yonezawa_city&quot;</td><td>{[&quot;48_02&quot;],[&quot;41_02&quot;],&quot;2022-05-13&quot;,46800,0,true,null}</td><td>&quot;None&quot;</td></tr><tr><td>&quot;56_02&quot;</td><td>&quot;53_02&quot;</td><td>2022-05-04 00:00:00</td><td>10</td><td>1</td><td>&quot;w&quot;</td><td>564060874</td><td>&quot;愛宕小前&quot;</td><td>&quot;yonezawa_city&quot;</td><td>564060973</td><td>&quot;西部ｺﾐｭﾆﾃｨｾﾝﾀｰ前&quot;</td><td>&quot;yonezawa_city&quot;</td><td>{[&quot;53_02&quot;],[&quot;56_02&quot;],&quot;2022-05-04&quot;,36000,0,true,null}</td><td>&quot;None&quot;</td></tr><tr><td>&quot;64_01&quot;</td><td>&quot;46_02&quot;</td><td>2022-05-13 00:00:00</td><td>15</td><td>1</td><td>&quot;h&quot;</td><td>564060884</td><td>&quot;大町一丁目&quot;</td><td>&quot;yonezawa_city&quot;</td><td>564070083</td><td>&quot;信夫町&quot;</td><td>&quot;yonezawa_city&quot;</td><td>{[&quot;46_02&quot;],[&quot;64_01&quot;],&quot;2022-05-13&quot;,54000,0,true,null}</td><td>&quot;None&quot;</td></tr><tr><td>&quot;53_02&quot;</td><td>&quot;1_01&quot;</td><td>2022-05-30 00:00:00</td><td>7</td><td>1</td><td>&quot;w&quot;</td><td>564061384</td><td>&quot;米沢スキー場前&quot;</td><td>&quot;yonezawa_city&quot;</td><td>564060874</td><td>&quot;愛宕小前&quot;</td><td>&quot;yonezawa_city&quot;</td><td>{[&quot;1_01&quot;],[&quot;53_02&quot;],&quot;2022-05-30&quot;,25200,0,true,null}</td><td>&quot;None&quot;</td></tr><tr><td>&quot;34_01&quot;</td><td>&quot;80_02&quot;</td><td>2022-05-07 00:00:00</td><td>22</td><td>1</td><td>&quot;h&quot;</td><td>564060693</td><td>&quot;太田町五丁目&quot;</td><td>&quot;yonezawa_city&quot;</td><td>564070082</td><td>&quot;中央三丁目&quot;</td><td>&quot;yonezawa_city&quot;</td><td>{[&quot;80_02&quot;],[&quot;34_01&quot;],&quot;2022-05-07&quot;,79200,0,true,null}</td><td>&quot;None&quot;</td></tr><tr><td>&quot;52_01&quot;</td><td>&quot;58_01&quot;</td><td>2022-05-26 00:00:00</td><td>21</td><td>1</td><td>&quot;h&quot;</td><td>564070072</td><td>&quot;すこやかセンター&quot;</td><td>&quot;yonezawa_city&quot;</td><td>564060872</td><td>&quot;二中前&quot;</td><td>&quot;yonezawa_city&quot;</td><td>{[&quot;58_01&quot;],[&quot;52_01&quot;],&quot;2022-05-26&quot;,75600,0,true,null}</td><td>&quot;None&quot;</td></tr><tr><td>&quot;12_02&quot;</td><td>&quot;27_02&quot;</td><td>2022-05-31 00:00:00</td><td>17</td><td>1</td><td>&quot;w&quot;</td><td>564060992</td><td>&quot;米沢営業所&quot;</td><td>&quot;yonezawa_city&quot;</td><td>564061831</td><td>&quot;万世小学校前&quot;</td><td>&quot;yonezawa_city&quot;</td><td>{[&quot;27_02&quot;],[&quot;12_02&quot;],&quot;2022-05-31&quot;,61200,0,true,null}</td><td>&quot;None&quot;</td></tr><tr><td>&quot;86_02&quot;</td><td>&quot;52_02&quot;</td><td>2022-05-16 00:00:00</td><td>16</td><td>1</td><td>&quot;w&quot;</td><td>564060872</td><td>&quot;二中前&quot;</td><td>&quot;yonezawa_city&quot;</td><td>564060884</td><td>&quot;九里学園前&quot;</td><td>&quot;yonezawa_city&quot;</td><td>{[&quot;52_02&quot;],[&quot;86_02&quot;],&quot;2022-05-16&quot;,57600,0,true,null}</td><td>&quot;None&quot;</td></tr><tr><td>&quot;12_02&quot;</td><td>&quot;28_01&quot;</td><td>2022-05-30 00:00:00</td><td>12</td><td>1</td><td>&quot;w&quot;</td><td>564060992</td><td>&quot;駅前四丁目&quot;</td><td>&quot;yonezawa_city&quot;</td><td>564061831</td><td>&quot;万世小学校前&quot;</td><td>&quot;yonezawa_city&quot;</td><td>{[&quot;28_01&quot;],[&quot;12_02&quot;],&quot;2022-05-30&quot;,43200,0,true,null}</td><td>&quot;None&quot;</td></tr><tr><td>&quot;87_02&quot;</td><td>&quot;67_01&quot;</td><td>2022-05-11 00:00:00</td><td>14</td><td>1</td><td>&quot;w&quot;</td><td>564070093</td><td>&quot;年金事務所西&quot;</td><td>&quot;yonezawa_city&quot;</td><td>564060982</td><td>&quot;門東町&quot;</td><td>&quot;yonezawa_city&quot;</td><td>{[&quot;67_01&quot;],[&quot;87_02&quot;],&quot;2022-05-11&quot;,50400,0,true,null}</td><td>&quot;None&quot;</td></tr><tr><td>&quot;81_01&quot;</td><td>&quot;67_01&quot;</td><td>2022-05-18 00:00:00</td><td>10</td><td>1</td><td>&quot;w&quot;</td><td>564070093</td><td>&quot;年金事務所西&quot;</td><td>&quot;yonezawa_city&quot;</td><td>564060791</td><td>&quot;興望館前&quot;</td><td>&quot;yonezawa_city&quot;</td><td>{[&quot;67_01&quot;],[&quot;81_01&quot;],&quot;2022-05-18&quot;,36000,0,true,null}</td><td>&quot;None&quot;</td></tr><tr><td>&hellip;</td><td>&hellip;</td><td>&hellip;</td><td>&hellip;</td><td>&hellip;</td><td>&hellip;</td><td>&hellip;</td><td>&hellip;</td><td>&hellip;</td><td>&hellip;</td><td>&hellip;</td><td>&hellip;</td><td>&hellip;</td><td>&hellip;</td></tr><tr><td>&quot;30_01&quot;</td><td>&quot;86_01&quot;</td><td>2022-07-28 00:00:00</td><td>20</td><td>1</td><td>&quot;h&quot;</td><td>564060884</td><td>&quot;九里学園前&quot;</td><td>&quot;yonezawa_city&quot;</td><td>564060991</td><td>&quot;大町&quot;</td><td>&quot;yonezawa_city&quot;</td><td>{[&quot;86_01&quot;],[&quot;30_01&quot;],&quot;2022-07-28&quot;,72000,0,true,null}</td><td>&quot;None&quot;</td></tr><tr><td>&quot;61_01&quot;</td><td>&quot;41_02&quot;</td><td>2022-07-01 00:00:00</td><td>11</td><td>1</td><td>&quot;h&quot;</td><td>564060893</td><td>&quot;県営相生ｱﾊﾟｰﾄ東&quot;</td><td>&quot;yonezawa_city&quot;</td><td>564060984</td><td>&quot;中央二丁目&quot;</td><td>&quot;yonezawa_city&quot;</td><td>{[&quot;41_02&quot;],[&quot;61_01&quot;],&quot;2022-07-01&quot;,39600,0,true,null}</td><td>&quot;None&quot;</td></tr><tr><td>&quot;7_01&quot;</td><td>&quot;10_02&quot;</td><td>2022-07-06 00:00:00</td><td>17</td><td>1</td><td>&quot;w&quot;</td><td>564061731</td><td>&quot;工業団地入口&quot;</td><td>&quot;yonezawa_city&quot;</td><td>564061643</td><td>&quot;梓山&quot;</td><td>&quot;yonezawa_city&quot;</td><td>{[&quot;10_02&quot;],[&quot;7_01&quot;],&quot;2022-07-06&quot;,61200,0,true,null}</td><td>&quot;None&quot;</td></tr><tr><td>&quot;18_01&quot;</td><td>&quot;13_01&quot;</td><td>2022-07-11 00:00:00</td><td>9</td><td>1</td><td>&quot;w&quot;</td><td>564061822</td><td>&quot;牛森&quot;</td><td>&quot;yonezawa_city&quot;</td><td>564061911</td><td>&quot;アルカディア&quot;</td><td>&quot;yonezawa_city&quot;</td><td>{[&quot;13_01&quot;],[&quot;18_01&quot;],&quot;2022-07-11&quot;,32400,0,true,null}</td><td>&quot;None&quot;</td></tr><tr><td>&quot;51_02&quot;</td><td>&quot;45_01&quot;</td><td>2022-07-25 00:00:00</td><td>17</td><td>1</td><td>&quot;w&quot;</td><td>564060891</td><td>&quot;福田町西&quot;</td><td>&quot;yonezawa_city&quot;</td><td>564060881</td><td>&quot;山大正門&quot;</td><td>&quot;yonezawa_city&quot;</td><td>{[&quot;45_01&quot;],[&quot;51_02&quot;],&quot;2022-07-25&quot;,61200,0,true,null}</td><td>&quot;None&quot;</td></tr><tr><td>&quot;74_02&quot;</td><td>&quot;45_01&quot;</td><td>2022-07-10 00:00:00</td><td>16</td><td>1</td><td>&quot;w&quot;</td><td>564060891</td><td>&quot;福田町西&quot;</td><td>&quot;yonezawa_city&quot;</td><td>564061701</td><td>&quot;通町六丁目&quot;</td><td>&quot;yonezawa_city&quot;</td><td>{[&quot;45_01&quot;],[&quot;74_02&quot;],&quot;2022-07-10&quot;,57600,0,true,null}</td><td>&quot;None&quot;</td></tr><tr><td>&quot;51_02&quot;</td><td>&quot;14_02&quot;</td><td>2022-07-21 00:00:00</td><td>18</td><td>1</td><td>&quot;h&quot;</td><td>564061821</td><td>&quot;桑山団地東&quot;</td><td>&quot;yonezawa_city&quot;</td><td>564060881</td><td>&quot;山大正門&quot;</td><td>&quot;yonezawa_city&quot;</td><td>{[&quot;14_02&quot;],[&quot;51_02&quot;],&quot;2022-07-21&quot;,64800,0,true,null}</td><td>&quot;None&quot;</td></tr><tr><td>&quot;53_02&quot;</td><td>&quot;79_02&quot;</td><td>2022-07-17 00:00:00</td><td>16</td><td>1</td><td>&quot;w&quot;</td><td>564060694</td><td>&quot;吾妻町南&quot;</td><td>&quot;yonezawa_city&quot;</td><td>564060874</td><td>&quot;愛宕小前&quot;</td><td>&quot;yonezawa_city&quot;</td><td>{[&quot;79_02&quot;],[&quot;53_02&quot;],&quot;2022-07-17&quot;,57600,0,true,null}</td><td>&quot;None&quot;</td></tr><tr><td>&quot;63_01&quot;</td><td>&quot;26_01&quot;</td><td>2022-07-10 00:00:00</td><td>13</td><td>1</td><td>&quot;w&quot;</td><td>564061901</td><td>&quot;米沢駅前&quot;</td><td>&quot;yonezawa_city&quot;</td><td>564070081</td><td>&quot;三友堂病院前&quot;</td><td>&quot;yonezawa_city&quot;</td><td>{[&quot;26_01&quot;],[&quot;63_01&quot;],&quot;2022-07-10&quot;,46800,0,true,null}</td><td>&quot;None&quot;</td></tr><tr><td>&quot;84_01&quot;</td><td>&quot;1_01&quot;</td><td>2022-07-07 00:00:00</td><td>7</td><td>1</td><td>&quot;h&quot;</td><td>564061384</td><td>&quot;米沢スキー場前&quot;</td><td>&quot;yonezawa_city&quot;</td><td>564060882</td><td>&quot;本町&quot;</td><td>&quot;yonezawa_city&quot;</td><td>{[&quot;1_01&quot;],[&quot;84_01&quot;],&quot;2022-07-07&quot;,25200,0,true,null}</td><td>&quot;None&quot;</td></tr><tr><td>&quot;81_02&quot;</td><td>&quot;78_01&quot;</td><td>2022-07-07 00:00:00</td><td>16</td><td>1</td><td>&quot;h&quot;</td><td>564060694</td><td>&quot;通町二丁目&quot;</td><td>&quot;yonezawa_city&quot;</td><td>564060791</td><td>&quot;興望館前&quot;</td><td>&quot;yonezawa_city&quot;</td><td>{[&quot;78_01&quot;],[&quot;81_02&quot;],&quot;2022-07-07&quot;,57600,0,true,null}</td><td>&quot;None&quot;</td></tr><tr><td>&quot;8_01&quot;</td><td>&quot;22_01&quot;</td><td>2022-07-24 00:00:00</td><td>14</td><td>1</td><td>&quot;w&quot;</td><td>564061714</td><td>&quot;桑山団地口&quot;</td><td>&quot;yonezawa_city&quot;</td><td>564061634</td><td>&quot;松林寺口&quot;</td><td>&quot;yonezawa_city&quot;</td><td>{[&quot;22_01&quot;],[&quot;8_01&quot;],&quot;2022-07-24&quot;,50400,0,true,null}</td><td>&quot;None&quot;</td></tr></tbody></table></div>"
      ],
      "text/plain": [
       "shape: (20_480, 14)\n",
       "┌───────┬───────┬────────────────┬──────┬───┬───────────────┬───────────────┬───────────────┬──────┐\n",
       "│ d_key ┆ o_key ┆ datetime       ┆ hour ┆ … ┆ d_stop_name   ┆ d_agency      ┆ parameters    ┆ res  │\n",
       "│ ---   ┆ ---   ┆ ---            ┆ ---  ┆   ┆ ---           ┆ ---           ┆ ---           ┆ ---  │\n",
       "│ str   ┆ str   ┆ datetime[ns]   ┆ i32  ┆   ┆ str           ┆ str           ┆ struct[7]     ┆ str  │\n",
       "╞═══════╪═══════╪════════════════╪══════╪═══╪═══════════════╪═══════════════╪═══════════════╪══════╡\n",
       "│ 54_01 ┆ 70_01 ┆ 2022-05-02     ┆ 12   ┆ … ┆ 西部こども園  ┆ yonezawa_city ┆ {[\"70_01\"],[\" ┆ None │\n",
       "│       ┆       ┆ 00:00:00       ┆      ┆   ┆ 前            ┆               ┆ 54_01\"],\"2022 ┆      │\n",
       "│       ┆       ┆                ┆      ┆   ┆               ┆               ┆ -05-02…       ┆      │\n",
       "│ 41_02 ┆ 48_02 ┆ 2022-05-13     ┆ 13   ┆ … ┆ 県営相生ｱﾊﾟｰﾄ ┆ yonezawa_city ┆ {[\"48_02\"],[\" ┆ None │\n",
       "│       ┆       ┆ 00:00:00       ┆      ┆   ┆ 東            ┆               ┆ 41_02\"],\"2022 ┆      │\n",
       "│       ┆       ┆                ┆      ┆   ┆               ┆               ┆ -05-13…       ┆      │\n",
       "│ 56_02 ┆ 53_02 ┆ 2022-05-04     ┆ 10   ┆ … ┆ 西部ｺﾐｭﾆﾃｨｾﾝﾀ ┆ yonezawa_city ┆ {[\"53_02\"],[\" ┆ None │\n",
       "│       ┆       ┆ 00:00:00       ┆      ┆   ┆ ｰ前           ┆               ┆ 56_02\"],\"2022 ┆      │\n",
       "│       ┆       ┆                ┆      ┆   ┆               ┆               ┆ -05-04…       ┆      │\n",
       "│ 64_01 ┆ 46_02 ┆ 2022-05-13     ┆ 15   ┆ … ┆ 信夫町        ┆ yonezawa_city ┆ {[\"46_02\"],[\" ┆ None │\n",
       "│       ┆       ┆ 00:00:00       ┆      ┆   ┆               ┆               ┆ 64_01\"],\"2022 ┆      │\n",
       "│       ┆       ┆                ┆      ┆   ┆               ┆               ┆ -05-13…       ┆      │\n",
       "│ …     ┆ …     ┆ …              ┆ …    ┆ … ┆ …             ┆ …             ┆ …             ┆ …    │\n",
       "│ 63_01 ┆ 26_01 ┆ 2022-07-10     ┆ 13   ┆ … ┆ 三友堂病院前  ┆ yonezawa_city ┆ {[\"26_01\"],[\" ┆ None │\n",
       "│       ┆       ┆ 00:00:00       ┆      ┆   ┆               ┆               ┆ 63_01\"],\"2022 ┆      │\n",
       "│       ┆       ┆                ┆      ┆   ┆               ┆               ┆ -07-10…       ┆      │\n",
       "│ 84_01 ┆ 1_01  ┆ 2022-07-07     ┆ 7    ┆ … ┆ 本町          ┆ yonezawa_city ┆ {[\"1_01\"],[\"8 ┆ None │\n",
       "│       ┆       ┆ 00:00:00       ┆      ┆   ┆               ┆               ┆ 4_01\"],\"2022- ┆      │\n",
       "│       ┆       ┆                ┆      ┆   ┆               ┆               ┆ 07-07\"…       ┆      │\n",
       "│ 81_02 ┆ 78_01 ┆ 2022-07-07     ┆ 16   ┆ … ┆ 興望館前      ┆ yonezawa_city ┆ {[\"78_01\"],[\" ┆ None │\n",
       "│       ┆       ┆ 00:00:00       ┆      ┆   ┆               ┆               ┆ 81_02\"],\"2022 ┆      │\n",
       "│       ┆       ┆                ┆      ┆   ┆               ┆               ┆ -07-07…       ┆      │\n",
       "│ 8_01  ┆ 22_01 ┆ 2022-07-24     ┆ 14   ┆ … ┆ 松林寺口      ┆ yonezawa_city ┆ {[\"22_01\"],[\" ┆ None │\n",
       "│       ┆       ┆ 00:00:00       ┆      ┆   ┆               ┆               ┆ 8_01\"],\"2022- ┆      │\n",
       "│       ┆       ┆                ┆      ┆   ┆               ┆               ┆ 07-24\"…       ┆      │\n",
       "└───────┴───────┴────────────────┴──────┴───┴───────────────┴───────────────┴───────────────┴──────┘"
      ]
     },
     "execution_count": 19,
     "metadata": {},
     "output_type": "execute_result"
    }
   ],
   "source": [
    "# pd_ods = ods_parameters.to_pandas()\n",
    "ods_parameters_res = ods_parameters.with_columns(\n",
    "    pl.col(\"parameters\").apply(lambda x:str(search_p2p_geojson(feed,x))).alias(\"res\")\n",
    ")\n",
    "# pl.col(\"parameters\").apply(lambda x: x['parameters'])\n",
    "req = {\n",
    "        \"origin_stop_ids\": [\"26_01\"],\n",
    "        \"destination_stop_ids\": [\"42_01\"],\n",
    "        \"specified_date\": \"2022-06-20\",\n",
    "        \"specified_secs\": 80000,\n",
    "        \"transfers_limit\": 0,\n",
    "        \"is_reverse_search\": True,\n",
    "        \"available_trip_ids\": None\n",
    "    }\n",
    "res = ods_parameters[\"parameters\"][0]\n",
    "print(type(ods_parameters[\"parameters\"][0][\"origin_stop_ids\"]))\n",
    "print(type(req[\"origin_stop_ids\"]))\n",
    "res = search_p2p_geojson(feed, req)\n",
    "print(res)\n",
    "# test = ods_parameters.with_columns(pl.lit(str(res)).alias('test'))\n",
    "ods_parameters_res\n",
    "# .filter(pl.col(\"res\").is_not_null())"
   ]
  },
  {
   "cell_type": "code",
   "execution_count": 20,
   "metadata": {},
   "outputs": [
    {
     "name": "stdout",
     "output_type": "stream",
     "text": [
      "20480\n",
      "486\n"
     ]
    },
    {
     "data": {
      "text/html": [
       "<div><style>\n",
       ".dataframe > thead > tr > th,\n",
       ".dataframe > tbody > tr > td {\n",
       "  text-align: right;\n",
       "}\n",
       "</style>\n",
       "<small>shape: (486,)</small><table border=\"1\" class=\"dataframe\"><thead><tr><th>res</th></tr><tr><td>str</td></tr></thead><tbody><tr><td>&quot;{&#x27;type&#x27;: &#x27;Feat…</td></tr><tr><td>&quot;{&#x27;type&#x27;: &#x27;Feat…</td></tr><tr><td>&quot;{&#x27;type&#x27;: &#x27;Feat…</td></tr><tr><td>&quot;{&#x27;type&#x27;: &#x27;Feat…</td></tr><tr><td>&quot;{&#x27;type&#x27;: &#x27;Feat…</td></tr><tr><td>&quot;{&#x27;type&#x27;: &#x27;Feat…</td></tr><tr><td>&quot;{&#x27;type&#x27;: &#x27;Feat…</td></tr><tr><td>&quot;{&#x27;type&#x27;: &#x27;Feat…</td></tr><tr><td>&quot;{&#x27;type&#x27;: &#x27;Feat…</td></tr><tr><td>&quot;{&#x27;type&#x27;: &#x27;Feat…</td></tr><tr><td>&quot;{&#x27;type&#x27;: &#x27;Feat…</td></tr><tr><td>&quot;{&#x27;type&#x27;: &#x27;Feat…</td></tr><tr><td>&hellip;</td></tr><tr><td>&quot;{&#x27;type&#x27;: &#x27;Feat…</td></tr><tr><td>&quot;{&#x27;type&#x27;: &#x27;Feat…</td></tr><tr><td>&quot;{&#x27;type&#x27;: &#x27;Feat…</td></tr><tr><td>&quot;{&#x27;type&#x27;: &#x27;Feat…</td></tr><tr><td>&quot;{&#x27;type&#x27;: &#x27;Feat…</td></tr><tr><td>&quot;{&#x27;type&#x27;: &#x27;Feat…</td></tr><tr><td>&quot;{&#x27;type&#x27;: &#x27;Feat…</td></tr><tr><td>&quot;{&#x27;type&#x27;: &#x27;Feat…</td></tr><tr><td>&quot;{&#x27;type&#x27;: &#x27;Feat…</td></tr><tr><td>&quot;{&#x27;type&#x27;: &#x27;Feat…</td></tr><tr><td>&quot;{&#x27;type&#x27;: &#x27;Feat…</td></tr><tr><td>&quot;{&#x27;type&#x27;: &#x27;Feat…</td></tr></tbody></table></div>"
      ],
      "text/plain": [
       "shape: (486,)\n",
       "Series: 'res' [str]\n",
       "[\n",
       "\t\"{'type': 'Feat…\n",
       "\t\"{'type': 'Feat…\n",
       "\t\"{'type': 'Feat…\n",
       "\t\"{'type': 'Feat…\n",
       "\t\"{'type': 'Feat…\n",
       "\t\"{'type': 'Feat…\n",
       "\t\"{'type': 'Feat…\n",
       "\t\"{'type': 'Feat…\n",
       "\t\"{'type': 'Feat…\n",
       "\t\"{'type': 'Feat…\n",
       "\t\"{'type': 'Feat…\n",
       "\t\"{'type': 'Feat…\n",
       "\t…\n",
       "\t\"{'type': 'Feat…\n",
       "\t\"{'type': 'Feat…\n",
       "\t\"{'type': 'Feat…\n",
       "\t\"{'type': 'Feat…\n",
       "\t\"{'type': 'Feat…\n",
       "\t\"{'type': 'Feat…\n",
       "\t\"{'type': 'Feat…\n",
       "\t\"{'type': 'Feat…\n",
       "\t\"{'type': 'Feat…\n",
       "\t\"{'type': 'Feat…\n",
       "\t\"{'type': 'Feat…\n",
       "\t\"{'type': 'Feat…\n",
       "\t\"{'type': 'Feat…\n",
       "]"
      ]
     },
     "execution_count": 20,
     "metadata": {},
     "output_type": "execute_result"
    }
   ],
   "source": [
    "print(len(ods_parameters_res))\n",
    "print(len(ods_parameters_res.filter(pl.col(\"res\")!='None')))"
   ]
  },
  {
   "cell_type": "code",
   "execution_count": null,
   "metadata": {},
   "outputs": [],
   "source": []
  },
  {
   "cell_type": "code",
   "execution_count": null,
   "metadata": {},
   "outputs": [],
   "source": []
  }
 ],
 "metadata": {
  "kernelspec": {
   "display_name": ".venv",
   "language": "python",
   "name": "python3"
  },
  "language_info": {
   "codemirror_mode": {
    "name": "ipython",
    "version": 3
   },
   "file_extension": ".py",
   "mimetype": "text/x-python",
   "name": "python",
   "nbconvert_exporter": "python",
   "pygments_lexer": "ipython3",
   "version": "3.11.5"
  }
 },
 "nbformat": 4,
 "nbformat_minor": 2
}
