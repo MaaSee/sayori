{
 "cells": [
  {
   "cell_type": "code",
   "execution_count": 14,
   "metadata": {},
   "outputs": [],
   "source": [
    "import polars as pl\n",
    "import pandas as pd\n",
    "import geopandas as gpd\n",
    "import datetime"
   ]
  },
  {
   "cell_type": "code",
   "execution_count": 2,
   "metadata": {},
   "outputs": [
    {
     "data": {
      "text/html": [
       "<div><style>\n",
       ".dataframe > thead > tr > th,\n",
       ".dataframe > tbody > tr > td {\n",
       "  text-align: right;\n",
       "}\n",
       "</style>\n",
       "<small>shape: (10, 12)</small><table border=\"1\" class=\"dataframe\"><thead><tr><th>d_key</th><th>o_key</th><th>datetime</th><th>hour</th><th>move_count</th><th>weekday_holiday_flag</th><th>o_mesh_4</th><th>o_stop_name</th><th>o_agency</th><th>d_mesh_4</th><th>d_stop_name</th><th>d_agency</th></tr><tr><td>str</td><td>str</td><td>datetime[ns]</td><td>i32</td><td>i32</td><td>str</td><td>i64</td><td>str</td><td>str</td><td>i64</td><td>str</td><td>str</td></tr></thead><tbody><tr><td>&quot;54_01&quot;</td><td>&quot;70_01&quot;</td><td>2022-05-02 00:00:00</td><td>12</td><td>1</td><td>&quot;w&quot;</td><td>564070091</td><td>&quot;金池一丁目&quot;</td><td>&quot;yonezawa_city&quot;</td><td>564060873</td><td>&quot;西部こども園前&quot;</td><td>&quot;yonezawa_city&quot;</td></tr><tr><td>&quot;41_02&quot;</td><td>&quot;48_02&quot;</td><td>2022-05-13 00:00:00</td><td>13</td><td>1</td><td>&quot;h&quot;</td><td>564060982</td><td>&quot;上杉神社前&quot;</td><td>&quot;yonezawa_city&quot;</td><td>564060893</td><td>&quot;県営相生ｱﾊﾟｰﾄ東&quot;</td><td>&quot;yonezawa_city&quot;</td></tr><tr><td>&quot;56_02&quot;</td><td>&quot;53_02&quot;</td><td>2022-05-04 00:00:00</td><td>10</td><td>1</td><td>&quot;w&quot;</td><td>564060874</td><td>&quot;愛宕小前&quot;</td><td>&quot;yonezawa_city&quot;</td><td>564060973</td><td>&quot;西部ｺﾐｭﾆﾃｨｾﾝﾀｰ前&quot;</td><td>&quot;yonezawa_city&quot;</td></tr><tr><td>&quot;64_01&quot;</td><td>&quot;46_02&quot;</td><td>2022-05-13 00:00:00</td><td>15</td><td>1</td><td>&quot;h&quot;</td><td>564060884</td><td>&quot;大町一丁目&quot;</td><td>&quot;yonezawa_city&quot;</td><td>564070083</td><td>&quot;信夫町&quot;</td><td>&quot;yonezawa_city&quot;</td></tr><tr><td>&quot;53_02&quot;</td><td>&quot;1_01&quot;</td><td>2022-05-30 00:00:00</td><td>7</td><td>1</td><td>&quot;w&quot;</td><td>564061384</td><td>&quot;米沢スキー場前&quot;</td><td>&quot;yonezawa_city&quot;</td><td>564060874</td><td>&quot;愛宕小前&quot;</td><td>&quot;yonezawa_city&quot;</td></tr><tr><td>&quot;34_01&quot;</td><td>&quot;80_02&quot;</td><td>2022-05-07 00:00:00</td><td>22</td><td>1</td><td>&quot;h&quot;</td><td>564060693</td><td>&quot;太田町五丁目&quot;</td><td>&quot;yonezawa_city&quot;</td><td>564070082</td><td>&quot;中央三丁目&quot;</td><td>&quot;yonezawa_city&quot;</td></tr><tr><td>&quot;52_01&quot;</td><td>&quot;58_01&quot;</td><td>2022-05-26 00:00:00</td><td>21</td><td>1</td><td>&quot;h&quot;</td><td>564070072</td><td>&quot;すこやかセンター&quot;</td><td>&quot;yonezawa_city&quot;</td><td>564060872</td><td>&quot;二中前&quot;</td><td>&quot;yonezawa_city&quot;</td></tr><tr><td>&quot;12_02&quot;</td><td>&quot;27_02&quot;</td><td>2022-05-31 00:00:00</td><td>17</td><td>1</td><td>&quot;w&quot;</td><td>564060992</td><td>&quot;米沢営業所&quot;</td><td>&quot;yonezawa_city&quot;</td><td>564061831</td><td>&quot;万世小学校前&quot;</td><td>&quot;yonezawa_city&quot;</td></tr><tr><td>&quot;86_02&quot;</td><td>&quot;52_02&quot;</td><td>2022-05-16 00:00:00</td><td>16</td><td>1</td><td>&quot;w&quot;</td><td>564060872</td><td>&quot;二中前&quot;</td><td>&quot;yonezawa_city&quot;</td><td>564060884</td><td>&quot;九里学園前&quot;</td><td>&quot;yonezawa_city&quot;</td></tr><tr><td>&quot;12_02&quot;</td><td>&quot;28_01&quot;</td><td>2022-05-30 00:00:00</td><td>12</td><td>1</td><td>&quot;w&quot;</td><td>564060992</td><td>&quot;駅前四丁目&quot;</td><td>&quot;yonezawa_city&quot;</td><td>564061831</td><td>&quot;万世小学校前&quot;</td><td>&quot;yonezawa_city&quot;</td></tr></tbody></table></div>"
      ],
      "text/plain": [
       "shape: (10, 12)\n",
       "┌───────┬───────┬──────────────┬──────┬───┬──────────────┬───────────┬──────────────┬──────────────┐\n",
       "│ d_key ┆ o_key ┆ datetime     ┆ hour ┆ … ┆ o_agency     ┆ d_mesh_4  ┆ d_stop_name  ┆ d_agency     │\n",
       "│ ---   ┆ ---   ┆ ---          ┆ ---  ┆   ┆ ---          ┆ ---       ┆ ---          ┆ ---          │\n",
       "│ str   ┆ str   ┆ datetime[ns] ┆ i32  ┆   ┆ str          ┆ i64       ┆ str          ┆ str          │\n",
       "╞═══════╪═══════╪══════════════╪══════╪═══╪══════════════╪═══════════╪══════════════╪══════════════╡\n",
       "│ 54_01 ┆ 70_01 ┆ 2022-05-02   ┆ 12   ┆ … ┆ yonezawa_cit ┆ 564060873 ┆ 西部こども園 ┆ yonezawa_cit │\n",
       "│       ┆       ┆ 00:00:00     ┆      ┆   ┆ y            ┆           ┆ 前           ┆ y            │\n",
       "│ 41_02 ┆ 48_02 ┆ 2022-05-13   ┆ 13   ┆ … ┆ yonezawa_cit ┆ 564060893 ┆ 県営相生ｱﾊﾟｰ ┆ yonezawa_cit │\n",
       "│       ┆       ┆ 00:00:00     ┆      ┆   ┆ y            ┆           ┆ ﾄ東          ┆ y            │\n",
       "│ 56_02 ┆ 53_02 ┆ 2022-05-04   ┆ 10   ┆ … ┆ yonezawa_cit ┆ 564060973 ┆ 西部ｺﾐｭﾆﾃｨｾﾝ ┆ yonezawa_cit │\n",
       "│       ┆       ┆ 00:00:00     ┆      ┆   ┆ y            ┆           ┆ ﾀｰ前         ┆ y            │\n",
       "│ 64_01 ┆ 46_02 ┆ 2022-05-13   ┆ 15   ┆ … ┆ yonezawa_cit ┆ 564070083 ┆ 信夫町       ┆ yonezawa_cit │\n",
       "│       ┆       ┆ 00:00:00     ┆      ┆   ┆ y            ┆           ┆              ┆ y            │\n",
       "│ …     ┆ …     ┆ …            ┆ …    ┆ … ┆ …            ┆ …         ┆ …            ┆ …            │\n",
       "│ 52_01 ┆ 58_01 ┆ 2022-05-26   ┆ 21   ┆ … ┆ yonezawa_cit ┆ 564060872 ┆ 二中前       ┆ yonezawa_cit │\n",
       "│       ┆       ┆ 00:00:00     ┆      ┆   ┆ y            ┆           ┆              ┆ y            │\n",
       "│ 12_02 ┆ 27_02 ┆ 2022-05-31   ┆ 17   ┆ … ┆ yonezawa_cit ┆ 564061831 ┆ 万世小学校前 ┆ yonezawa_cit │\n",
       "│       ┆       ┆ 00:00:00     ┆      ┆   ┆ y            ┆           ┆              ┆ y            │\n",
       "│ 86_02 ┆ 52_02 ┆ 2022-05-16   ┆ 16   ┆ … ┆ yonezawa_cit ┆ 564060884 ┆ 九里学園前   ┆ yonezawa_cit │\n",
       "│       ┆       ┆ 00:00:00     ┆      ┆   ┆ y            ┆           ┆              ┆ y            │\n",
       "│ 12_02 ┆ 28_01 ┆ 2022-05-30   ┆ 12   ┆ … ┆ yonezawa_cit ┆ 564061831 ┆ 万世小学校前 ┆ yonezawa_cit │\n",
       "│       ┆       ┆ 00:00:00     ┆      ┆   ┆ y            ┆           ┆              ┆ y            │\n",
       "└───────┴───────┴──────────────┴──────┴───┴──────────────┴───────────┴──────────────┴──────────────┘"
      ]
     },
     "execution_count": 2,
     "metadata": {},
     "output_type": "execute_result"
    }
   ],
   "source": [
    "# odsの中身の確認\n",
    "ods = pl.read_parquet('/Users/nagampere/File/Python/sayori/od_yonezawa_based_stop_id.parquet/part-00002-tid-7597389897474560305-7a8f602a-b508-4487-af54-55d4c76e5e85-38-1.c000.snappy.parquet')\n",
    "# ods[2,0] = \"53_02\"\n",
    "# ods[2,1] = \"56_02\"\n",
    "# ods[8,0] = \"52_02\"\n",
    "# ods[8,1] = \"86_02\"\t\n",
    "# ods[9,0] = \"12_02\"\n",
    "# ods[9,1] = \"28_02\"\n",
    "ods.head(10)"
   ]
  },
  {
   "cell_type": "code",
   "execution_count": 92,
   "metadata": {},
   "outputs": [
    {
     "name": "stdout",
     "output_type": "stream",
     "text": [
      "{'origin_stop_ids': ['70_01'], 'destination_stop_ids': ['54_01'], 'specified_date': '2022-05-02', 'specified_secs': 120000, 'transfers_limit': 3, 'is_reverse_search': True, 'available_trip_ids': None}\n"
     ]
    }
   ],
   "source": [
    "import json\n",
    "ods_parameters = ods.with_columns(\n",
    "    pl.struct(\n",
    "        pl.concat_list(pl.col('o_key')).alias(\"origin_stop_ids\"),\n",
    "        # pl.concat_list(pl.lit(\"26_01\")).alias(\"origin_stop_ids\"),\n",
    "        pl.concat_list(pl.col('d_key')).alias(\"destination_stop_ids\"),\n",
    "        # pl.concat_list(pl.lit(\"42_01\")).alias(\"destination_stop_ids\"),\n",
    "        pl.col('datetime').cast(pl.Date).cast(str).alias(\"specified_date\"),\n",
    "        # pl.lit(\"2022-06-20\").alias(\"specified_date\"),\n",
    "        (pl.col('hour')*10000).cast(int).alias(\"specified_secs\"),\n",
    "        # (pl.lit('40000')).alias(\"specified_secs\"),\n",
    "        pl.lit(3).cast(int).alias(\"transfers_limit\"),\n",
    "        pl.lit(True).alias(\"is_reverse_search\"),\n",
    "        pl.lit(None).cast(str).alias(\"available_trip_ids\")\n",
    "    ).alias(\"parameters\")\n",
    ")\n",
    "print(ods_parameters[0,12])\n"
   ]
  },
  {
   "cell_type": "code",
   "execution_count": 93,
   "metadata": {},
   "outputs": [],
   "source": [
    "# transferデータの修正\n",
    "stops = pd.read_csv('data_yonezawa/stops.txt')"
   ]
  },
  {
   "cell_type": "code",
   "execution_count": 94,
   "metadata": {},
   "outputs": [],
   "source": [
    "pdf_stops = gpd.GeoDataFrame(\n",
    "    stops,\n",
    "    geometry=gpd.GeoSeries.from_xy(stops['stop_lon'], \n",
    "                                   stops['stop_lat'],\n",
    "                                   crs=\"EPSG:4326\")\n",
    ").to_crs(6678)\n",
    "\n",
    "df_stops = pd.DataFrame()\n",
    "for i, se in pdf_stops.iterrows():\n",
    "    df_stops = pd.concat([\n",
    "        df_stops,\n",
    "        pd.DataFrame({\n",
    "            \"from_stop_id\": [se[\"stop_id\"]]*len(pdf_stops),\n",
    "            \"to_stop_id\": [x for x in pdf_stops[\"stop_id\"]],\n",
    "            \"distance\": pdf_stops[\"geometry\"].apply(lambda x: x.distance(se[\"geometry\"])).tolist()\n",
    "        })\n",
    "    ])\n",
    "\n",
    "df_stops = df_stops.query(\"distance < 80*5\")\n",
    "df_stops = df_stops.query(\"from_stop_id != to_stop_id\")"
   ]
  },
  {
   "cell_type": "code",
   "execution_count": 95,
   "metadata": {},
   "outputs": [
    {
     "data": {
      "text/plain": [
       "from_stop_id         object\n",
       "to_stop_id           object\n",
       "transfer_type         int32\n",
       "min_transfer_time     int32\n",
       "dtype: object"
      ]
     },
     "execution_count": 95,
     "metadata": {},
     "output_type": "execute_result"
    }
   ],
   "source": [
    "transfers = pd.DataFrame()\n",
    "transfers['from_stop_id'] = df_stops['from_stop_id'].astype(str)\n",
    "transfers['to_stop_id'] = df_stops['to_stop_id'].astype(str)\n",
    "transfers['transfer_type'] = 2\n",
    "transfers['transfer_type'] = transfers['transfer_type'].astype('i4')\n",
    "transfers['min_transfer_time'] = df_stops['distance'] // 80 * 60\n",
    "transfers['min_transfer_time'] = transfers['min_transfer_time'].apply(lambda x: 1 if x == 0 else x)\n",
    "transfers['min_transfer_time'] = transfers['min_transfer_time'].astype('i4')\n",
    "transfers.reset_index(inplace=True,\n",
    "                      drop=True)\n",
    "transfers.to_parquet('data_yonezawa/transfers.parquet')\n",
    "transfers.to_csv('transfers.csv')\n",
    "transfers.dtypes"
   ]
  },
  {
   "cell_type": "code",
   "execution_count": 96,
   "metadata": {},
   "outputs": [
    {
     "data": {
      "text/html": [
       "<div>\n",
       "<style scoped>\n",
       "    .dataframe tbody tr th:only-of-type {\n",
       "        vertical-align: middle;\n",
       "    }\n",
       "\n",
       "    .dataframe tbody tr th {\n",
       "        vertical-align: top;\n",
       "    }\n",
       "\n",
       "    .dataframe thead th {\n",
       "        text-align: right;\n",
       "    }\n",
       "</style>\n",
       "<table border=\"1\" class=\"dataframe\">\n",
       "  <thead>\n",
       "    <tr style=\"text-align: right;\">\n",
       "      <th></th>\n",
       "      <th>from_stop_id</th>\n",
       "      <th>to_stop_id</th>\n",
       "      <th>transfer_type</th>\n",
       "      <th>min_transfer_time</th>\n",
       "    </tr>\n",
       "  </thead>\n",
       "  <tbody>\n",
       "    <tr>\n",
       "      <th>3</th>\n",
       "      <td>11_01</td>\n",
       "      <td>12_01</td>\n",
       "      <td>2</td>\n",
       "      <td>180</td>\n",
       "    </tr>\n",
       "    <tr>\n",
       "      <th>4</th>\n",
       "      <td>11_01</td>\n",
       "      <td>12_02</td>\n",
       "      <td>2</td>\n",
       "      <td>180</td>\n",
       "    </tr>\n",
       "    <tr>\n",
       "      <th>6</th>\n",
       "      <td>11_02</td>\n",
       "      <td>12_01</td>\n",
       "      <td>2</td>\n",
       "      <td>180</td>\n",
       "    </tr>\n",
       "    <tr>\n",
       "      <th>7</th>\n",
       "      <td>11_02</td>\n",
       "      <td>12_02</td>\n",
       "      <td>2</td>\n",
       "      <td>180</td>\n",
       "    </tr>\n",
       "    <tr>\n",
       "      <th>8</th>\n",
       "      <td>12_01</td>\n",
       "      <td>11_01</td>\n",
       "      <td>2</td>\n",
       "      <td>180</td>\n",
       "    </tr>\n",
       "    <tr>\n",
       "      <th>...</th>\n",
       "      <td>...</td>\n",
       "      <td>...</td>\n",
       "      <td>...</td>\n",
       "      <td>...</td>\n",
       "    </tr>\n",
       "    <tr>\n",
       "      <th>718</th>\n",
       "      <td>87_02</td>\n",
       "      <td>30_01</td>\n",
       "      <td>2</td>\n",
       "      <td>180</td>\n",
       "    </tr>\n",
       "    <tr>\n",
       "      <th>719</th>\n",
       "      <td>87_02</td>\n",
       "      <td>30_02</td>\n",
       "      <td>2</td>\n",
       "      <td>180</td>\n",
       "    </tr>\n",
       "    <tr>\n",
       "      <th>720</th>\n",
       "      <td>87_02</td>\n",
       "      <td>31_01</td>\n",
       "      <td>2</td>\n",
       "      <td>60</td>\n",
       "    </tr>\n",
       "    <tr>\n",
       "      <th>721</th>\n",
       "      <td>87_02</td>\n",
       "      <td>48_02</td>\n",
       "      <td>2</td>\n",
       "      <td>240</td>\n",
       "    </tr>\n",
       "    <tr>\n",
       "      <th>723</th>\n",
       "      <td>9_01</td>\n",
       "      <td>8_02</td>\n",
       "      <td>2</td>\n",
       "      <td>240</td>\n",
       "    </tr>\n",
       "  </tbody>\n",
       "</table>\n",
       "<p>618 rows × 4 columns</p>\n",
       "</div>"
      ],
      "text/plain": [
       "    from_stop_id to_stop_id  transfer_type  min_transfer_time\n",
       "3          11_01      12_01              2                180\n",
       "4          11_01      12_02              2                180\n",
       "6          11_02      12_01              2                180\n",
       "7          11_02      12_02              2                180\n",
       "8          12_01      11_01              2                180\n",
       "..           ...        ...            ...                ...\n",
       "718        87_02      30_01              2                180\n",
       "719        87_02      30_02              2                180\n",
       "720        87_02      31_01              2                 60\n",
       "721        87_02      48_02              2                240\n",
       "723         9_01       8_02              2                240\n",
       "\n",
       "[618 rows x 4 columns]"
      ]
     },
     "metadata": {},
     "output_type": "display_data"
    }
   ],
   "source": [
    "display(transfers[transfers[\"min_transfer_time\"]!=1])"
   ]
  },
  {
   "cell_type": "code",
   "execution_count": 97,
   "metadata": {},
   "outputs": [
    {
     "data": {
      "text/plain": [
       "trip_id           object\n",
       "arrival_time       int32\n",
       "departure_time     int32\n",
       "stop_id           object\n",
       "stop_sequence      int64\n",
       "pickup_type        int32\n",
       "drop_off_type      int32\n",
       "dtype: object"
      ]
     },
     "execution_count": 97,
     "metadata": {},
     "output_type": "execute_result"
    }
   ],
   "source": [
    "df_stop_times = pd.read_csv('data_yonezawa/stop_times.txt')\n",
    "\n",
    "def time_to_sec(x):\n",
    "    time = datetime.datetime.strptime(x,'%H:%M:%S')\n",
    "    sec = time.hour*60*60 + time.minute*60 + time.second\n",
    "    return sec\n",
    "\n",
    "\n",
    "df_stop_times['arrival_time'] = df_stop_times['arrival_time'].apply(lambda x: time_to_sec(x)).astype('i4')\n",
    "df_stop_times['departure_time'] = df_stop_times['departure_time'].apply(lambda x: time_to_sec(x)).astype('i4')\n",
    "df_stop_times['stop_sequence'] = df_stop_times['stop_sequence'].astype('i8')\n",
    "df_stop_times['pickup_type'] = df_stop_times['pickup_type'].astype('i4')\n",
    "df_stop_times['drop_off_type'] = df_stop_times['drop_off_type'].astype('i4')\n",
    "df_stop_times = df_stop_times.drop(columns=['stop_headsign','shape_dist_traveled'])\n",
    "df_stop_times.to_parquet('data_yonezawa/stop_times.parquet', index=False)\n",
    "df_stop_times.dtypes"
   ]
  },
  {
   "cell_type": "code",
   "execution_count": 98,
   "metadata": {},
   "outputs": [],
   "source": [
    "import os\n",
    "import time\n",
    "import json\n",
    "\n",
    "from sayori.raptor import search_p2p_geojson, search_p2p_path\n",
    "from sayori.models import FeedPath, Feed"
   ]
  },
  {
   "cell_type": "code",
   "execution_count": 99,
   "metadata": {},
   "outputs": [
    {
     "data": {
      "text/plain": [
       "array([('1全日夏期_07時00分_系統4181', 25200, 25200, '26_01',  1, 0, 1),\n",
       "       ('1全日夏期_07時00分_系統4181', 25260, 25260, '38_01',  2, 0, 0),\n",
       "       ('1全日夏期_07時00分_系統4181', 25320, 25320, '39_01',  3, 0, 0), ...,\n",
       "       ('6全日_17時25分_系統4162', 65220, 65220, '71_02', 33, 0, 0),\n",
       "       ('6全日_17時25分_系統4162', 65340, 65340, '25_01', 34, 0, 0),\n",
       "       ('6全日_17時25分_系統4162', 65460, 65460, '26_01', 35, 1, 0)],\n",
       "      dtype=[('trip_id', 'O'), ('arrival_time', '<i4'), ('departure_time', '<i4'), ('stop_id', 'O'), ('stop_sequence', '<i8'), ('pickup_type', '<i4'), ('drop_off_type', '<i4')])"
      ]
     },
     "execution_count": 99,
     "metadata": {},
     "output_type": "execute_result"
    }
   ],
   "source": [
    "def load_data_from_path() -> FeedPath:\n",
    "    feed_path = {\n",
    "        \"stops\": os.environ.get(\"STOPS_PATH\"),\n",
    "        \"trips\": os.environ.get(\"TRIPS_PATH\"),\n",
    "        \"stop_times\": os.environ.get(\"STOP_TIMES_PATH\"),\n",
    "        \"transfers\": os.environ.get(\"TRANSFERS_PATH\"),\n",
    "        \"calendar\": os.environ.get(\"CALENDAR_PATH\"),\n",
    "    }\n",
    "\n",
    "    return FeedPath.parse_obj(feed_path)\n",
    "\n",
    "feed_path = load_data_from_path()\n",
    "feed = Feed.from_feed_path(feed_path)\n",
    "feed.stop_times"
   ]
  },
  {
   "cell_type": "code",
   "execution_count": 168,
   "metadata": {},
   "outputs": [],
   "source": [
    "# sayoriエンジンの適用\n",
    "n=10000\n",
    "ods_parameters_res = ods_parameters.head(n).with_columns(\n",
    "    pl.col(\"parameters\").apply(lambda x:dict(search_p2p_geojson(feed,x))).alias(\"res\")\n",
    ")\n",
    "res = []\n",
    "for i in ods_parameters.head(n)[\"parameters\"]: \n",
    "    x = search_p2p_geojson(feed,i)\n",
    "    if x == None: continue\n",
    "    else: res.append({\n",
    "        'time_to_reach': x['features'][0]['properties']['time_to_reach']\n",
    "    })\n",
    "df_res = pd.DataFrame(res)"
   ]
  },
  {
   "cell_type": "code",
   "execution_count": 170,
   "metadata": {},
   "outputs": [
    {
     "data": {
      "text/plain": [
       "5377"
      ]
     },
     "execution_count": 170,
     "metadata": {},
     "output_type": "execute_result"
    }
   ],
   "source": [
    "len(res)"
   ]
  },
  {
   "cell_type": "code",
   "execution_count": 169,
   "metadata": {},
   "outputs": [
    {
     "data": {
      "text/plain": [
       "array([[<Axes: title={'center': 'time_to_reach'}>]], dtype=object)"
      ]
     },
     "execution_count": 169,
     "metadata": {},
     "output_type": "execute_result"
    },
    {
     "data": {
      "image/png": "[encoded data removed]",
      "text/plain": [
       "<Figure size 640x480 with 1 Axes>"
      ]
     },
     "metadata": {},
     "output_type": "display_data"
    }
   ],
   "source": [
    "df_res.hist(bins=30)"
   ]
  },
  {
   "cell_type": "code",
   "execution_count": 101,
   "metadata": {},
   "outputs": [
    {
     "name": "stdout",
     "output_type": "stream",
     "text": [
      "100\n",
      "57\n"
     ]
    }
   ],
   "source": [
    "# 正答率\n",
    "print(len(ods_parameters_res))\n",
    "print(len(ods_parameters_res.filter(pl.col(\"res\")!='None')))"
   ]
  },
  {
   "cell_type": "code",
   "execution_count": 102,
   "metadata": {},
   "outputs": [
    {
     "data": {
      "text/html": [
       "<div><style>\n",
       ".dataframe > thead > tr > th,\n",
       ".dataframe > tbody > tr > td {\n",
       "  text-align: right;\n",
       "}\n",
       "</style>\n",
       "<small>shape: (10, 14)</small><table border=\"1\" class=\"dataframe\"><thead><tr><th>d_key</th><th>o_key</th><th>datetime</th><th>hour</th><th>move_count</th><th>weekday_holiday_flag</th><th>o_mesh_4</th><th>o_stop_name</th><th>o_agency</th><th>d_mesh_4</th><th>d_stop_name</th><th>d_agency</th><th>parameters</th><th>res</th></tr><tr><td>str</td><td>str</td><td>datetime[ns]</td><td>i32</td><td>i32</td><td>str</td><td>i64</td><td>str</td><td>str</td><td>i64</td><td>str</td><td>str</td><td>struct[7]</td><td>str</td></tr></thead><tbody><tr><td>&quot;54_01&quot;</td><td>&quot;70_01&quot;</td><td>2022-05-02 00:00:00</td><td>12</td><td>1</td><td>&quot;w&quot;</td><td>564070091</td><td>&quot;金池一丁目&quot;</td><td>&quot;yonezawa_city&quot;</td><td>564060873</td><td>&quot;西部こども園前&quot;</td><td>&quot;yonezawa_city&quot;</td><td>{[&quot;70_01&quot;],[&quot;54_01&quot;],&quot;2022-05-02&quot;,120000,3,true,null}</td><td>&quot;{&#x27;type&#x27;: &#x27;Feat…</td></tr><tr><td>&quot;41_02&quot;</td><td>&quot;48_02&quot;</td><td>2022-05-13 00:00:00</td><td>13</td><td>1</td><td>&quot;h&quot;</td><td>564060982</td><td>&quot;上杉神社前&quot;</td><td>&quot;yonezawa_city&quot;</td><td>564060893</td><td>&quot;県営相生ｱﾊﾟｰﾄ東&quot;</td><td>&quot;yonezawa_city&quot;</td><td>{[&quot;48_02&quot;],[&quot;41_02&quot;],&quot;2022-05-13&quot;,130000,3,true,null}</td><td>&quot;{&#x27;type&#x27;: &#x27;Feat…</td></tr><tr><td>&quot;56_02&quot;</td><td>&quot;53_02&quot;</td><td>2022-05-04 00:00:00</td><td>10</td><td>1</td><td>&quot;w&quot;</td><td>564060874</td><td>&quot;愛宕小前&quot;</td><td>&quot;yonezawa_city&quot;</td><td>564060973</td><td>&quot;西部ｺﾐｭﾆﾃｨｾﾝﾀｰ前&quot;</td><td>&quot;yonezawa_city&quot;</td><td>{[&quot;53_02&quot;],[&quot;56_02&quot;],&quot;2022-05-04&quot;,100000,3,true,null}</td><td>&quot;{&#x27;type&#x27;: &#x27;Feat…</td></tr><tr><td>&quot;64_01&quot;</td><td>&quot;46_02&quot;</td><td>2022-05-13 00:00:00</td><td>15</td><td>1</td><td>&quot;h&quot;</td><td>564060884</td><td>&quot;大町一丁目&quot;</td><td>&quot;yonezawa_city&quot;</td><td>564070083</td><td>&quot;信夫町&quot;</td><td>&quot;yonezawa_city&quot;</td><td>{[&quot;46_02&quot;],[&quot;64_01&quot;],&quot;2022-05-13&quot;,150000,3,true,null}</td><td>&quot;{&#x27;type&#x27;: &#x27;Feat…</td></tr><tr><td>&quot;53_02&quot;</td><td>&quot;1_01&quot;</td><td>2022-05-30 00:00:00</td><td>7</td><td>1</td><td>&quot;w&quot;</td><td>564061384</td><td>&quot;米沢スキー場前&quot;</td><td>&quot;yonezawa_city&quot;</td><td>564060874</td><td>&quot;愛宕小前&quot;</td><td>&quot;yonezawa_city&quot;</td><td>{[&quot;1_01&quot;],[&quot;53_02&quot;],&quot;2022-05-30&quot;,70000,3,true,null}</td><td>&quot;None&quot;</td></tr><tr><td>&quot;34_01&quot;</td><td>&quot;80_02&quot;</td><td>2022-05-07 00:00:00</td><td>22</td><td>1</td><td>&quot;h&quot;</td><td>564060693</td><td>&quot;太田町五丁目&quot;</td><td>&quot;yonezawa_city&quot;</td><td>564070082</td><td>&quot;中央三丁目&quot;</td><td>&quot;yonezawa_city&quot;</td><td>{[&quot;80_02&quot;],[&quot;34_01&quot;],&quot;2022-05-07&quot;,220000,3,true,null}</td><td>&quot;None&quot;</td></tr><tr><td>&quot;52_01&quot;</td><td>&quot;58_01&quot;</td><td>2022-05-26 00:00:00</td><td>21</td><td>1</td><td>&quot;h&quot;</td><td>564070072</td><td>&quot;すこやかセンター&quot;</td><td>&quot;yonezawa_city&quot;</td><td>564060872</td><td>&quot;二中前&quot;</td><td>&quot;yonezawa_city&quot;</td><td>{[&quot;58_01&quot;],[&quot;52_01&quot;],&quot;2022-05-26&quot;,210000,3,true,null}</td><td>&quot;{&#x27;type&#x27;: &#x27;Feat…</td></tr><tr><td>&quot;12_02&quot;</td><td>&quot;27_02&quot;</td><td>2022-05-31 00:00:00</td><td>17</td><td>1</td><td>&quot;w&quot;</td><td>564060992</td><td>&quot;米沢営業所&quot;</td><td>&quot;yonezawa_city&quot;</td><td>564061831</td><td>&quot;万世小学校前&quot;</td><td>&quot;yonezawa_city&quot;</td><td>{[&quot;27_02&quot;],[&quot;12_02&quot;],&quot;2022-05-31&quot;,170000,3,true,null}</td><td>&quot;None&quot;</td></tr><tr><td>&quot;86_02&quot;</td><td>&quot;52_02&quot;</td><td>2022-05-16 00:00:00</td><td>16</td><td>1</td><td>&quot;w&quot;</td><td>564060872</td><td>&quot;二中前&quot;</td><td>&quot;yonezawa_city&quot;</td><td>564060884</td><td>&quot;九里学園前&quot;</td><td>&quot;yonezawa_city&quot;</td><td>{[&quot;52_02&quot;],[&quot;86_02&quot;],&quot;2022-05-16&quot;,160000,3,true,null}</td><td>&quot;{&#x27;type&#x27;: &#x27;Feat…</td></tr><tr><td>&quot;12_02&quot;</td><td>&quot;28_01&quot;</td><td>2022-05-30 00:00:00</td><td>12</td><td>1</td><td>&quot;w&quot;</td><td>564060992</td><td>&quot;駅前四丁目&quot;</td><td>&quot;yonezawa_city&quot;</td><td>564061831</td><td>&quot;万世小学校前&quot;</td><td>&quot;yonezawa_city&quot;</td><td>{[&quot;28_01&quot;],[&quot;12_02&quot;],&quot;2022-05-30&quot;,120000,3,true,null}</td><td>&quot;None&quot;</td></tr></tbody></table></div>"
      ],
      "text/plain": [
       "shape: (10, 14)\n",
       "┌───────┬───────┬──────────────┬──────┬───┬──────────────┬─────────────┬─────────────┬─────────────┐\n",
       "│ d_key ┆ o_key ┆ datetime     ┆ hour ┆ … ┆ d_stop_name  ┆ d_agency    ┆ parameters  ┆ res         │\n",
       "│ ---   ┆ ---   ┆ ---          ┆ ---  ┆   ┆ ---          ┆ ---         ┆ ---         ┆ ---         │\n",
       "│ str   ┆ str   ┆ datetime[ns] ┆ i32  ┆   ┆ str          ┆ str         ┆ struct[7]   ┆ str         │\n",
       "╞═══════╪═══════╪══════════════╪══════╪═══╪══════════════╪═════════════╪═════════════╪═════════════╡\n",
       "│ 54_01 ┆ 70_01 ┆ 2022-05-02   ┆ 12   ┆ … ┆ 西部こども園 ┆ yonezawa_ci ┆ {[\"70_01\"], ┆ {'type':    │\n",
       "│       ┆       ┆ 00:00:00     ┆      ┆   ┆ 前           ┆ ty          ┆ [\"54_01\"],\" ┆ 'FeatureCol │\n",
       "│       ┆       ┆              ┆      ┆   ┆              ┆             ┆ 2022-05-02… ┆ lection',   │\n",
       "│       ┆       ┆              ┆      ┆   ┆              ┆             ┆             ┆ 'f…         │\n",
       "│ 41_02 ┆ 48_02 ┆ 2022-05-13   ┆ 13   ┆ … ┆ 県営相生ｱﾊﾟｰ ┆ yonezawa_ci ┆ {[\"48_02\"], ┆ {'type':    │\n",
       "│       ┆       ┆ 00:00:00     ┆      ┆   ┆ ﾄ東          ┆ ty          ┆ [\"41_02\"],\" ┆ 'FeatureCol │\n",
       "│       ┆       ┆              ┆      ┆   ┆              ┆             ┆ 2022-05-13… ┆ lection',   │\n",
       "│       ┆       ┆              ┆      ┆   ┆              ┆             ┆             ┆ 'f…         │\n",
       "│ 56_02 ┆ 53_02 ┆ 2022-05-04   ┆ 10   ┆ … ┆ 西部ｺﾐｭﾆﾃｨｾﾝ ┆ yonezawa_ci ┆ {[\"53_02\"], ┆ {'type':    │\n",
       "│       ┆       ┆ 00:00:00     ┆      ┆   ┆ ﾀｰ前         ┆ ty          ┆ [\"56_02\"],\" ┆ 'FeatureCol │\n",
       "│       ┆       ┆              ┆      ┆   ┆              ┆             ┆ 2022-05-04… ┆ lection',   │\n",
       "│       ┆       ┆              ┆      ┆   ┆              ┆             ┆             ┆ 'f…         │\n",
       "│ 64_01 ┆ 46_02 ┆ 2022-05-13   ┆ 15   ┆ … ┆ 信夫町       ┆ yonezawa_ci ┆ {[\"46_02\"], ┆ {'type':    │\n",
       "│       ┆       ┆ 00:00:00     ┆      ┆   ┆              ┆ ty          ┆ [\"64_01\"],\" ┆ 'FeatureCol │\n",
       "│       ┆       ┆              ┆      ┆   ┆              ┆             ┆ 2022-05-13… ┆ lection',   │\n",
       "│       ┆       ┆              ┆      ┆   ┆              ┆             ┆             ┆ 'f…         │\n",
       "│ …     ┆ …     ┆ …            ┆ …    ┆ … ┆ …            ┆ …           ┆ …           ┆ …           │\n",
       "│ 52_01 ┆ 58_01 ┆ 2022-05-26   ┆ 21   ┆ … ┆ 二中前       ┆ yonezawa_ci ┆ {[\"58_01\"], ┆ {'type':    │\n",
       "│       ┆       ┆ 00:00:00     ┆      ┆   ┆              ┆ ty          ┆ [\"52_01\"],\" ┆ 'FeatureCol │\n",
       "│       ┆       ┆              ┆      ┆   ┆              ┆             ┆ 2022-05-26… ┆ lection',   │\n",
       "│       ┆       ┆              ┆      ┆   ┆              ┆             ┆             ┆ 'f…         │\n",
       "│ 12_02 ┆ 27_02 ┆ 2022-05-31   ┆ 17   ┆ … ┆ 万世小学校前 ┆ yonezawa_ci ┆ {[\"27_02\"], ┆ None        │\n",
       "│       ┆       ┆ 00:00:00     ┆      ┆   ┆              ┆ ty          ┆ [\"12_02\"],\" ┆             │\n",
       "│       ┆       ┆              ┆      ┆   ┆              ┆             ┆ 2022-05-31… ┆             │\n",
       "│ 86_02 ┆ 52_02 ┆ 2022-05-16   ┆ 16   ┆ … ┆ 九里学園前   ┆ yonezawa_ci ┆ {[\"52_02\"], ┆ {'type':    │\n",
       "│       ┆       ┆ 00:00:00     ┆      ┆   ┆              ┆ ty          ┆ [\"86_02\"],\" ┆ 'FeatureCol │\n",
       "│       ┆       ┆              ┆      ┆   ┆              ┆             ┆ 2022-05-16… ┆ lection',   │\n",
       "│       ┆       ┆              ┆      ┆   ┆              ┆             ┆             ┆ 'f…         │\n",
       "│ 12_02 ┆ 28_01 ┆ 2022-05-30   ┆ 12   ┆ … ┆ 万世小学校前 ┆ yonezawa_ci ┆ {[\"28_01\"], ┆ None        │\n",
       "│       ┆       ┆ 00:00:00     ┆      ┆   ┆              ┆ ty          ┆ [\"12_02\"],\" ┆             │\n",
       "│       ┆       ┆              ┆      ┆   ┆              ┆             ┆ 2022-05-30… ┆             │\n",
       "└───────┴───────┴──────────────┴──────┴───┴──────────────┴─────────────┴─────────────┴─────────────┘"
      ]
     },
     "execution_count": 102,
     "metadata": {},
     "output_type": "execute_result"
    }
   ],
   "source": [
    "# チェック\n",
    "ods_parameters_res.head(10)\n",
    "# [4]: \"米沢スキー場前\"発は始発が7:35なので、ヒットしない?"
   ]
  },
  {
   "cell_type": "code",
   "execution_count": 103,
   "metadata": {},
   "outputs": [],
   "source": [
    "ods_parameters_res.drop(\"parameters\").write_csv(\"ods.csv\")"
   ]
  },
  {
   "cell_type": "code",
   "execution_count": null,
   "metadata": {},
   "outputs": [],
   "source": []
  }
 ],
 "metadata": {
  "kernelspec": {
   "display_name": ".venv",
   "language": "python",
   "name": "python3"
  },
  "language_info": {
   "codemirror_mode": {
    "name": "ipython",
    "version": 3
   },
   "file_extension": ".py",
   "mimetype": "text/x-python",
   "name": "python",
   "nbconvert_exporter": "python",
   "pygments_lexer": "ipython3",
   "version": "3.11.5"
  }
 },
 "nbformat": 4,
 "nbformat_minor": 2
}
