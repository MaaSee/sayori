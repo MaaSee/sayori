{
 "cells": [
  {
   "cell_type": "code",
   "execution_count": 1,
   "metadata": {},
   "outputs": [],
   "source": [
    "import polars as pl\n",
    "import pandas as pd\n",
    "import geopandas as gpd"
   ]
  },
  {
   "cell_type": "code",
   "execution_count": 2,
   "metadata": {},
   "outputs": [
    {
     "data": {
      "text/html": [
       "<div><style>\n",
       ".dataframe > thead > tr > th,\n",
       ".dataframe > tbody > tr > td {\n",
       "  text-align: right;\n",
       "}\n",
       "</style>\n",
       "<small>shape: (10, 12)</small><table border=\"1\" class=\"dataframe\"><thead><tr><th>d_key</th><th>o_key</th><th>datetime</th><th>hour</th><th>move_count</th><th>weekday_holiday_flag</th><th>o_mesh_4</th><th>o_stop_name</th><th>o_agency</th><th>d_mesh_4</th><th>d_stop_name</th><th>d_agency</th></tr><tr><td>str</td><td>str</td><td>datetime[ns]</td><td>i32</td><td>i32</td><td>str</td><td>i64</td><td>str</td><td>str</td><td>i64</td><td>str</td><td>str</td></tr></thead><tbody><tr><td>&quot;54_01&quot;</td><td>&quot;70_01&quot;</td><td>2022-05-02 00:00:00</td><td>12</td><td>1</td><td>&quot;w&quot;</td><td>564070091</td><td>&quot;金池一丁目&quot;</td><td>&quot;yonezawa_city&quot;</td><td>564060873</td><td>&quot;西部こども園前&quot;</td><td>&quot;yonezawa_city&quot;</td></tr><tr><td>&quot;41_02&quot;</td><td>&quot;48_02&quot;</td><td>2022-05-13 00:00:00</td><td>13</td><td>1</td><td>&quot;h&quot;</td><td>564060982</td><td>&quot;上杉神社前&quot;</td><td>&quot;yonezawa_city&quot;</td><td>564060893</td><td>&quot;県営相生ｱﾊﾟｰﾄ東&quot;</td><td>&quot;yonezawa_city&quot;</td></tr><tr><td>&quot;56_02&quot;</td><td>&quot;53_02&quot;</td><td>2022-05-04 00:00:00</td><td>10</td><td>1</td><td>&quot;w&quot;</td><td>564060874</td><td>&quot;愛宕小前&quot;</td><td>&quot;yonezawa_city&quot;</td><td>564060973</td><td>&quot;西部ｺﾐｭﾆﾃｨｾﾝﾀｰ前&quot;</td><td>&quot;yonezawa_city&quot;</td></tr><tr><td>&quot;64_01&quot;</td><td>&quot;46_02&quot;</td><td>2022-05-13 00:00:00</td><td>15</td><td>1</td><td>&quot;h&quot;</td><td>564060884</td><td>&quot;大町一丁目&quot;</td><td>&quot;yonezawa_city&quot;</td><td>564070083</td><td>&quot;信夫町&quot;</td><td>&quot;yonezawa_city&quot;</td></tr><tr><td>&quot;53_02&quot;</td><td>&quot;1_01&quot;</td><td>2022-05-30 00:00:00</td><td>7</td><td>1</td><td>&quot;w&quot;</td><td>564061384</td><td>&quot;米沢スキー場前&quot;</td><td>&quot;yonezawa_city&quot;</td><td>564060874</td><td>&quot;愛宕小前&quot;</td><td>&quot;yonezawa_city&quot;</td></tr><tr><td>&quot;34_01&quot;</td><td>&quot;80_02&quot;</td><td>2022-05-07 00:00:00</td><td>22</td><td>1</td><td>&quot;h&quot;</td><td>564060693</td><td>&quot;太田町五丁目&quot;</td><td>&quot;yonezawa_city&quot;</td><td>564070082</td><td>&quot;中央三丁目&quot;</td><td>&quot;yonezawa_city&quot;</td></tr><tr><td>&quot;52_01&quot;</td><td>&quot;58_01&quot;</td><td>2022-05-26 00:00:00</td><td>21</td><td>1</td><td>&quot;h&quot;</td><td>564070072</td><td>&quot;すこやかセンター&quot;</td><td>&quot;yonezawa_city&quot;</td><td>564060872</td><td>&quot;二中前&quot;</td><td>&quot;yonezawa_city&quot;</td></tr><tr><td>&quot;12_02&quot;</td><td>&quot;27_02&quot;</td><td>2022-05-31 00:00:00</td><td>17</td><td>1</td><td>&quot;w&quot;</td><td>564060992</td><td>&quot;米沢営業所&quot;</td><td>&quot;yonezawa_city&quot;</td><td>564061831</td><td>&quot;万世小学校前&quot;</td><td>&quot;yonezawa_city&quot;</td></tr><tr><td>&quot;86_02&quot;</td><td>&quot;52_02&quot;</td><td>2022-05-16 00:00:00</td><td>16</td><td>1</td><td>&quot;w&quot;</td><td>564060872</td><td>&quot;二中前&quot;</td><td>&quot;yonezawa_city&quot;</td><td>564060884</td><td>&quot;九里学園前&quot;</td><td>&quot;yonezawa_city&quot;</td></tr><tr><td>&quot;12_02&quot;</td><td>&quot;28_01&quot;</td><td>2022-05-30 00:00:00</td><td>12</td><td>1</td><td>&quot;w&quot;</td><td>564060992</td><td>&quot;駅前四丁目&quot;</td><td>&quot;yonezawa_city&quot;</td><td>564061831</td><td>&quot;万世小学校前&quot;</td><td>&quot;yonezawa_city&quot;</td></tr></tbody></table></div>"
      ],
      "text/plain": [
       "shape: (10, 12)\n",
       "┌───────┬───────┬──────────────┬──────┬───┬──────────────┬───────────┬──────────────┬──────────────┐\n",
       "│ d_key ┆ o_key ┆ datetime     ┆ hour ┆ … ┆ o_agency     ┆ d_mesh_4  ┆ d_stop_name  ┆ d_agency     │\n",
       "│ ---   ┆ ---   ┆ ---          ┆ ---  ┆   ┆ ---          ┆ ---       ┆ ---          ┆ ---          │\n",
       "│ str   ┆ str   ┆ datetime[ns] ┆ i32  ┆   ┆ str          ┆ i64       ┆ str          ┆ str          │\n",
       "╞═══════╪═══════╪══════════════╪══════╪═══╪══════════════╪═══════════╪══════════════╪══════════════╡\n",
       "│ 54_01 ┆ 70_01 ┆ 2022-05-02   ┆ 12   ┆ … ┆ yonezawa_cit ┆ 564060873 ┆ 西部こども園 ┆ yonezawa_cit │\n",
       "│       ┆       ┆ 00:00:00     ┆      ┆   ┆ y            ┆           ┆ 前           ┆ y            │\n",
       "│ 41_02 ┆ 48_02 ┆ 2022-05-13   ┆ 13   ┆ … ┆ yonezawa_cit ┆ 564060893 ┆ 県営相生ｱﾊﾟｰ ┆ yonezawa_cit │\n",
       "│       ┆       ┆ 00:00:00     ┆      ┆   ┆ y            ┆           ┆ ﾄ東          ┆ y            │\n",
       "│ 56_02 ┆ 53_02 ┆ 2022-05-04   ┆ 10   ┆ … ┆ yonezawa_cit ┆ 564060973 ┆ 西部ｺﾐｭﾆﾃｨｾﾝ ┆ yonezawa_cit │\n",
       "│       ┆       ┆ 00:00:00     ┆      ┆   ┆ y            ┆           ┆ ﾀｰ前         ┆ y            │\n",
       "│ 64_01 ┆ 46_02 ┆ 2022-05-13   ┆ 15   ┆ … ┆ yonezawa_cit ┆ 564070083 ┆ 信夫町       ┆ yonezawa_cit │\n",
       "│       ┆       ┆ 00:00:00     ┆      ┆   ┆ y            ┆           ┆              ┆ y            │\n",
       "│ …     ┆ …     ┆ …            ┆ …    ┆ … ┆ …            ┆ …         ┆ …            ┆ …            │\n",
       "│ 52_01 ┆ 58_01 ┆ 2022-05-26   ┆ 21   ┆ … ┆ yonezawa_cit ┆ 564060872 ┆ 二中前       ┆ yonezawa_cit │\n",
       "│       ┆       ┆ 00:00:00     ┆      ┆   ┆ y            ┆           ┆              ┆ y            │\n",
       "│ 12_02 ┆ 27_02 ┆ 2022-05-31   ┆ 17   ┆ … ┆ yonezawa_cit ┆ 564061831 ┆ 万世小学校前 ┆ yonezawa_cit │\n",
       "│       ┆       ┆ 00:00:00     ┆      ┆   ┆ y            ┆           ┆              ┆ y            │\n",
       "│ 86_02 ┆ 52_02 ┆ 2022-05-16   ┆ 16   ┆ … ┆ yonezawa_cit ┆ 564060884 ┆ 九里学園前   ┆ yonezawa_cit │\n",
       "│       ┆       ┆ 00:00:00     ┆      ┆   ┆ y            ┆           ┆              ┆ y            │\n",
       "│ 12_02 ┆ 28_01 ┆ 2022-05-30   ┆ 12   ┆ … ┆ yonezawa_cit ┆ 564061831 ┆ 万世小学校前 ┆ yonezawa_cit │\n",
       "│       ┆       ┆ 00:00:00     ┆      ┆   ┆ y            ┆           ┆              ┆ y            │\n",
       "└───────┴───────┴──────────────┴──────┴───┴──────────────┴───────────┴──────────────┴──────────────┘"
      ]
     },
     "execution_count": 2,
     "metadata": {},
     "output_type": "execute_result"
    }
   ],
   "source": [
    "# odsの中身の確認\n",
    "ods = pl.read_parquet('/Users/nagampere/File/Python/sayori/od_yonezawa_based_stop_id.parquet/part-00002-tid-7597389897474560305-7a8f602a-b508-4487-af54-55d4c76e5e85-38-1.c000.snappy.parquet')\n",
    "# ods[2,0] = \"53_02\"\n",
    "# ods[2,1] = \"56_02\"\n",
    "# ods[8,0] = \"52_02\"\n",
    "# ods[8,1] = \"86_02\"\t\n",
    "# ods[9,0] = \"12_02\"\n",
    "# ods[9,1] = \"28_02\"\n",
    "ods.head(10)"
   ]
  },
  {
   "cell_type": "code",
   "execution_count": 3,
   "metadata": {},
   "outputs": [
    {
     "name": "stdout",
     "output_type": "stream",
     "text": [
      "{'origin_stop_ids': ['70_01'], 'destination_stop_ids': ['54_01'], 'specified_date': '2022-05-02', 'specified_secs': 43200, 'transfers_limit': 1, 'is_reverse_search': False, 'available_trip_ids': None}\n"
     ]
    },
    {
     "data": {
      "text/html": [
       "<div><style>\n",
       ".dataframe > thead > tr > th,\n",
       ".dataframe > tbody > tr > td {\n",
       "  text-align: right;\n",
       "}\n",
       "</style>\n",
       "<small>shape: (10, 13)</small><table border=\"1\" class=\"dataframe\"><thead><tr><th>d_key</th><th>o_key</th><th>datetime</th><th>hour</th><th>move_count</th><th>weekday_holiday_flag</th><th>o_mesh_4</th><th>o_stop_name</th><th>o_agency</th><th>d_mesh_4</th><th>d_stop_name</th><th>d_agency</th><th>parameters</th></tr><tr><td>str</td><td>str</td><td>datetime[ns]</td><td>i32</td><td>i32</td><td>str</td><td>i64</td><td>str</td><td>str</td><td>i64</td><td>str</td><td>str</td><td>struct[7]</td></tr></thead><tbody><tr><td>&quot;54_01&quot;</td><td>&quot;70_01&quot;</td><td>2022-05-02 00:00:00</td><td>12</td><td>1</td><td>&quot;w&quot;</td><td>564070091</td><td>&quot;金池一丁目&quot;</td><td>&quot;yonezawa_city&quot;</td><td>564060873</td><td>&quot;西部こども園前&quot;</td><td>&quot;yonezawa_city&quot;</td><td>{[&quot;70_01&quot;],[&quot;54_01&quot;],&quot;2022-05-02&quot;,43200,1,false,null}</td></tr><tr><td>&quot;41_02&quot;</td><td>&quot;48_02&quot;</td><td>2022-05-13 00:00:00</td><td>13</td><td>1</td><td>&quot;h&quot;</td><td>564060982</td><td>&quot;上杉神社前&quot;</td><td>&quot;yonezawa_city&quot;</td><td>564060893</td><td>&quot;県営相生ｱﾊﾟｰﾄ東&quot;</td><td>&quot;yonezawa_city&quot;</td><td>{[&quot;48_02&quot;],[&quot;41_02&quot;],&quot;2022-05-13&quot;,46800,1,false,null}</td></tr><tr><td>&quot;56_02&quot;</td><td>&quot;53_02&quot;</td><td>2022-05-04 00:00:00</td><td>10</td><td>1</td><td>&quot;w&quot;</td><td>564060874</td><td>&quot;愛宕小前&quot;</td><td>&quot;yonezawa_city&quot;</td><td>564060973</td><td>&quot;西部ｺﾐｭﾆﾃｨｾﾝﾀｰ前&quot;</td><td>&quot;yonezawa_city&quot;</td><td>{[&quot;53_02&quot;],[&quot;56_02&quot;],&quot;2022-05-04&quot;,36000,1,false,null}</td></tr><tr><td>&quot;64_01&quot;</td><td>&quot;46_02&quot;</td><td>2022-05-13 00:00:00</td><td>15</td><td>1</td><td>&quot;h&quot;</td><td>564060884</td><td>&quot;大町一丁目&quot;</td><td>&quot;yonezawa_city&quot;</td><td>564070083</td><td>&quot;信夫町&quot;</td><td>&quot;yonezawa_city&quot;</td><td>{[&quot;46_02&quot;],[&quot;64_01&quot;],&quot;2022-05-13&quot;,54000,1,false,null}</td></tr><tr><td>&quot;53_02&quot;</td><td>&quot;1_01&quot;</td><td>2022-05-30 00:00:00</td><td>7</td><td>1</td><td>&quot;w&quot;</td><td>564061384</td><td>&quot;米沢スキー場前&quot;</td><td>&quot;yonezawa_city&quot;</td><td>564060874</td><td>&quot;愛宕小前&quot;</td><td>&quot;yonezawa_city&quot;</td><td>{[&quot;1_01&quot;],[&quot;53_02&quot;],&quot;2022-05-30&quot;,25200,1,false,null}</td></tr><tr><td>&quot;34_01&quot;</td><td>&quot;80_02&quot;</td><td>2022-05-07 00:00:00</td><td>22</td><td>1</td><td>&quot;h&quot;</td><td>564060693</td><td>&quot;太田町五丁目&quot;</td><td>&quot;yonezawa_city&quot;</td><td>564070082</td><td>&quot;中央三丁目&quot;</td><td>&quot;yonezawa_city&quot;</td><td>{[&quot;80_02&quot;],[&quot;34_01&quot;],&quot;2022-05-07&quot;,79200,1,false,null}</td></tr><tr><td>&quot;52_01&quot;</td><td>&quot;58_01&quot;</td><td>2022-05-26 00:00:00</td><td>21</td><td>1</td><td>&quot;h&quot;</td><td>564070072</td><td>&quot;すこやかセンター&quot;</td><td>&quot;yonezawa_city&quot;</td><td>564060872</td><td>&quot;二中前&quot;</td><td>&quot;yonezawa_city&quot;</td><td>{[&quot;58_01&quot;],[&quot;52_01&quot;],&quot;2022-05-26&quot;,75600,1,false,null}</td></tr><tr><td>&quot;12_02&quot;</td><td>&quot;27_02&quot;</td><td>2022-05-31 00:00:00</td><td>17</td><td>1</td><td>&quot;w&quot;</td><td>564060992</td><td>&quot;米沢営業所&quot;</td><td>&quot;yonezawa_city&quot;</td><td>564061831</td><td>&quot;万世小学校前&quot;</td><td>&quot;yonezawa_city&quot;</td><td>{[&quot;27_02&quot;],[&quot;12_02&quot;],&quot;2022-05-31&quot;,61200,1,false,null}</td></tr><tr><td>&quot;86_02&quot;</td><td>&quot;52_02&quot;</td><td>2022-05-16 00:00:00</td><td>16</td><td>1</td><td>&quot;w&quot;</td><td>564060872</td><td>&quot;二中前&quot;</td><td>&quot;yonezawa_city&quot;</td><td>564060884</td><td>&quot;九里学園前&quot;</td><td>&quot;yonezawa_city&quot;</td><td>{[&quot;52_02&quot;],[&quot;86_02&quot;],&quot;2022-05-16&quot;,57600,1,false,null}</td></tr><tr><td>&quot;12_02&quot;</td><td>&quot;28_01&quot;</td><td>2022-05-30 00:00:00</td><td>12</td><td>1</td><td>&quot;w&quot;</td><td>564060992</td><td>&quot;駅前四丁目&quot;</td><td>&quot;yonezawa_city&quot;</td><td>564061831</td><td>&quot;万世小学校前&quot;</td><td>&quot;yonezawa_city&quot;</td><td>{[&quot;28_01&quot;],[&quot;12_02&quot;],&quot;2022-05-30&quot;,43200,1,false,null}</td></tr></tbody></table></div>"
      ],
      "text/plain": [
       "shape: (10, 13)\n",
       "┌───────┬───────┬──────────────┬──────┬───┬───────────┬──────────────┬──────────────┬──────────────┐\n",
       "│ d_key ┆ o_key ┆ datetime     ┆ hour ┆ … ┆ d_mesh_4  ┆ d_stop_name  ┆ d_agency     ┆ parameters   │\n",
       "│ ---   ┆ ---   ┆ ---          ┆ ---  ┆   ┆ ---       ┆ ---          ┆ ---          ┆ ---          │\n",
       "│ str   ┆ str   ┆ datetime[ns] ┆ i32  ┆   ┆ i64       ┆ str          ┆ str          ┆ struct[7]    │\n",
       "╞═══════╪═══════╪══════════════╪══════╪═══╪═══════════╪══════════════╪══════════════╪══════════════╡\n",
       "│ 54_01 ┆ 70_01 ┆ 2022-05-02   ┆ 12   ┆ … ┆ 564060873 ┆ 西部こども園 ┆ yonezawa_cit ┆ {[\"70_01\"],[ │\n",
       "│       ┆       ┆ 00:00:00     ┆      ┆   ┆           ┆ 前           ┆ y            ┆ \"54_01\"],\"20 │\n",
       "│       ┆       ┆              ┆      ┆   ┆           ┆              ┆              ┆ 22-05-02…    │\n",
       "│ 41_02 ┆ 48_02 ┆ 2022-05-13   ┆ 13   ┆ … ┆ 564060893 ┆ 県営相生ｱﾊﾟｰ ┆ yonezawa_cit ┆ {[\"48_02\"],[ │\n",
       "│       ┆       ┆ 00:00:00     ┆      ┆   ┆           ┆ ﾄ東          ┆ y            ┆ \"41_02\"],\"20 │\n",
       "│       ┆       ┆              ┆      ┆   ┆           ┆              ┆              ┆ 22-05-13…    │\n",
       "│ 56_02 ┆ 53_02 ┆ 2022-05-04   ┆ 10   ┆ … ┆ 564060973 ┆ 西部ｺﾐｭﾆﾃｨｾﾝ ┆ yonezawa_cit ┆ {[\"53_02\"],[ │\n",
       "│       ┆       ┆ 00:00:00     ┆      ┆   ┆           ┆ ﾀｰ前         ┆ y            ┆ \"56_02\"],\"20 │\n",
       "│       ┆       ┆              ┆      ┆   ┆           ┆              ┆              ┆ 22-05-04…    │\n",
       "│ 64_01 ┆ 46_02 ┆ 2022-05-13   ┆ 15   ┆ … ┆ 564070083 ┆ 信夫町       ┆ yonezawa_cit ┆ {[\"46_02\"],[ │\n",
       "│       ┆       ┆ 00:00:00     ┆      ┆   ┆           ┆              ┆ y            ┆ \"64_01\"],\"20 │\n",
       "│       ┆       ┆              ┆      ┆   ┆           ┆              ┆              ┆ 22-05-13…    │\n",
       "│ …     ┆ …     ┆ …            ┆ …    ┆ … ┆ …         ┆ …            ┆ …            ┆ …            │\n",
       "│ 52_01 ┆ 58_01 ┆ 2022-05-26   ┆ 21   ┆ … ┆ 564060872 ┆ 二中前       ┆ yonezawa_cit ┆ {[\"58_01\"],[ │\n",
       "│       ┆       ┆ 00:00:00     ┆      ┆   ┆           ┆              ┆ y            ┆ \"52_01\"],\"20 │\n",
       "│       ┆       ┆              ┆      ┆   ┆           ┆              ┆              ┆ 22-05-26…    │\n",
       "│ 12_02 ┆ 27_02 ┆ 2022-05-31   ┆ 17   ┆ … ┆ 564061831 ┆ 万世小学校前 ┆ yonezawa_cit ┆ {[\"27_02\"],[ │\n",
       "│       ┆       ┆ 00:00:00     ┆      ┆   ┆           ┆              ┆ y            ┆ \"12_02\"],\"20 │\n",
       "│       ┆       ┆              ┆      ┆   ┆           ┆              ┆              ┆ 22-05-31…    │\n",
       "│ 86_02 ┆ 52_02 ┆ 2022-05-16   ┆ 16   ┆ … ┆ 564060884 ┆ 九里学園前   ┆ yonezawa_cit ┆ {[\"52_02\"],[ │\n",
       "│       ┆       ┆ 00:00:00     ┆      ┆   ┆           ┆              ┆ y            ┆ \"86_02\"],\"20 │\n",
       "│       ┆       ┆              ┆      ┆   ┆           ┆              ┆              ┆ 22-05-16…    │\n",
       "│ 12_02 ┆ 28_01 ┆ 2022-05-30   ┆ 12   ┆ … ┆ 564061831 ┆ 万世小学校前 ┆ yonezawa_cit ┆ {[\"28_01\"],[ │\n",
       "│       ┆       ┆ 00:00:00     ┆      ┆   ┆           ┆              ┆ y            ┆ \"12_02\"],\"20 │\n",
       "│       ┆       ┆              ┆      ┆   ┆           ┆              ┆              ┆ 22-05-30…    │\n",
       "└───────┴───────┴──────────────┴──────┴───┴───────────┴──────────────┴──────────────┴──────────────┘"
      ]
     },
     "execution_count": 3,
     "metadata": {},
     "output_type": "execute_result"
    }
   ],
   "source": [
    "import json\n",
    "ods_parameters = ods.with_columns(\n",
    "    pl.struct(\n",
    "        pl.concat_list(pl.col('o_key')).alias(\"origin_stop_ids\"),\n",
    "        # pl.concat_list(pl.lit(\"26_01\")).alias(\"origin_stop_ids\"),\n",
    "        pl.concat_list(pl.col('d_key')).alias(\"destination_stop_ids\"),\n",
    "        # pl.concat_list(pl.lit(\"42_01\")).alias(\"destination_stop_ids\"),\n",
    "        pl.col('datetime').cast(pl.Date).cast(str).alias(\"specified_date\"),\n",
    "        # pl.lit(\"2022-06-20\").alias(\"specified_date\"),\n",
    "        (pl.col('hour')*60*60).cast(int).alias(\"specified_secs\"),\n",
    "        # (pl.lit('40000')).alias(\"specified_secs\"),\n",
    "        pl.lit(1).cast(int).alias(\"transfers_limit\"),\n",
    "        pl.lit(False).alias(\"is_reverse_search\"),\n",
    "        pl.lit(None).cast(str).alias(\"available_trip_ids\")\n",
    "    ).alias(\"parameters\")\n",
    ")\n",
    "print(ods_parameters[0,12])\n",
    "ods_parameters.head(10)\n"
   ]
  },
  {
   "cell_type": "code",
   "execution_count": 4,
   "metadata": {},
   "outputs": [],
   "source": [
    "# transferデータの修正\n",
    "stops = pd.read_csv('data_yonezawa/stops.txt')"
   ]
  },
  {
   "cell_type": "code",
   "execution_count": 5,
   "metadata": {},
   "outputs": [],
   "source": [
    "pdf_stops = gpd.GeoDataFrame(\n",
    "    stops,\n",
    "    geometry=gpd.GeoSeries.from_xy(stops['stop_lon'], \n",
    "                                   stops['stop_lat'],\n",
    "                                   crs=\"EPSG:4326\")\n",
    ").to_crs(6678)\n",
    "\n",
    "df_stops = pd.DataFrame()\n",
    "for i, se in pdf_stops.iterrows():\n",
    "    df_stops = pd.concat([\n",
    "        df_stops,\n",
    "        pd.DataFrame({\n",
    "            \"from_stop_id\": [se[\"stop_id\"]]*len(pdf_stops),\n",
    "            \"to_stop_id\": [x for x in pdf_stops[\"stop_id\"]],\n",
    "            \"distance\": pdf_stops[\"geometry\"].apply(lambda x: x.distance(se[\"geometry\"])).tolist()\n",
    "        })\n",
    "    ])\n",
    "\n",
    "df_stops = df_stops.query(\"distance < 80*3\")\n",
    "df_stops = df_stops.query(\"from_stop_id != to_stop_id\")"
   ]
  },
  {
   "cell_type": "code",
   "execution_count": 6,
   "metadata": {},
   "outputs": [
    {
     "data": {
      "text/plain": [
       "from_stop_id         object\n",
       "to_stop_id           object\n",
       "transfer_type         int32\n",
       "min_transfer_time     int32\n",
       "dtype: object"
      ]
     },
     "execution_count": 6,
     "metadata": {},
     "output_type": "execute_result"
    }
   ],
   "source": [
    "transfers = pd.DataFrame()\n",
    "transfers['from_stop_id'] = df_stops['from_stop_id'].astype(str)\n",
    "transfers['to_stop_id'] = df_stops['to_stop_id'].astype(str)\n",
    "transfers['transfer_type'] = 2\n",
    "transfers['transfer_type'] = transfers['transfer_type'].astype('i4')\n",
    "transfers['min_transfer_time'] = df_stops['distance'] // 80 * 60\n",
    "transfers['min_transfer_time'] = transfers['min_transfer_time'].apply(lambda x: -100 if x == 0 else x)\n",
    "transfers['min_transfer_time'] = transfers['min_transfer_time'].astype('i4')\n",
    "transfers.reset_index(inplace=True,\n",
    "                      drop=True)\n",
    "transfers.to_parquet('data_yonezawa/transfers.parquet')\n",
    "transfers.to_csv('transfers.csv')\n",
    "transfers.dtypes"
   ]
  },
  {
   "cell_type": "code",
   "execution_count": 7,
   "metadata": {},
   "outputs": [
    {
     "data": {
      "text/html": [
       "<div>\n",
       "<style scoped>\n",
       "    .dataframe tbody tr th:only-of-type {\n",
       "        vertical-align: middle;\n",
       "    }\n",
       "\n",
       "    .dataframe tbody tr th {\n",
       "        vertical-align: top;\n",
       "    }\n",
       "\n",
       "    .dataframe thead th {\n",
       "        text-align: right;\n",
       "    }\n",
       "</style>\n",
       "<table border=\"1\" class=\"dataframe\">\n",
       "  <thead>\n",
       "    <tr style=\"text-align: right;\">\n",
       "      <th></th>\n",
       "      <th>from_stop_id</th>\n",
       "      <th>to_stop_id</th>\n",
       "      <th>transfer_type</th>\n",
       "      <th>min_transfer_time</th>\n",
       "    </tr>\n",
       "  </thead>\n",
       "  <tbody>\n",
       "    <tr>\n",
       "      <th>0</th>\n",
       "      <td>10_01</td>\n",
       "      <td>10_02</td>\n",
       "      <td>2</td>\n",
       "      <td>-100</td>\n",
       "    </tr>\n",
       "    <tr>\n",
       "      <th>1</th>\n",
       "      <td>10_02</td>\n",
       "      <td>10_01</td>\n",
       "      <td>2</td>\n",
       "      <td>-100</td>\n",
       "    </tr>\n",
       "    <tr>\n",
       "      <th>2</th>\n",
       "      <td>11_01</td>\n",
       "      <td>11_02</td>\n",
       "      <td>2</td>\n",
       "      <td>-100</td>\n",
       "    </tr>\n",
       "    <tr>\n",
       "      <th>3</th>\n",
       "      <td>11_02</td>\n",
       "      <td>11_01</td>\n",
       "      <td>2</td>\n",
       "      <td>-100</td>\n",
       "    </tr>\n",
       "    <tr>\n",
       "      <th>4</th>\n",
       "      <td>12_01</td>\n",
       "      <td>12_02</td>\n",
       "      <td>2</td>\n",
       "      <td>-100</td>\n",
       "    </tr>\n",
       "    <tr>\n",
       "      <th>...</th>\n",
       "      <td>...</td>\n",
       "      <td>...</td>\n",
       "      <td>...</td>\n",
       "      <td>...</td>\n",
       "    </tr>\n",
       "    <tr>\n",
       "      <th>285</th>\n",
       "      <td>86_02</td>\n",
       "      <td>86_01</td>\n",
       "      <td>2</td>\n",
       "      <td>-100</td>\n",
       "    </tr>\n",
       "    <tr>\n",
       "      <th>286</th>\n",
       "      <td>87_01</td>\n",
       "      <td>31_01</td>\n",
       "      <td>2</td>\n",
       "      <td>120</td>\n",
       "    </tr>\n",
       "    <tr>\n",
       "      <th>287</th>\n",
       "      <td>87_01</td>\n",
       "      <td>87_02</td>\n",
       "      <td>2</td>\n",
       "      <td>-100</td>\n",
       "    </tr>\n",
       "    <tr>\n",
       "      <th>288</th>\n",
       "      <td>87_02</td>\n",
       "      <td>31_01</td>\n",
       "      <td>2</td>\n",
       "      <td>60</td>\n",
       "    </tr>\n",
       "    <tr>\n",
       "      <th>289</th>\n",
       "      <td>87_02</td>\n",
       "      <td>87_01</td>\n",
       "      <td>2</td>\n",
       "      <td>-100</td>\n",
       "    </tr>\n",
       "  </tbody>\n",
       "</table>\n",
       "<p>290 rows × 4 columns</p>\n",
       "</div>"
      ],
      "text/plain": [
       "    from_stop_id to_stop_id  transfer_type  min_transfer_time\n",
       "0          10_01      10_02              2               -100\n",
       "1          10_02      10_01              2               -100\n",
       "2          11_01      11_02              2               -100\n",
       "3          11_02      11_01              2               -100\n",
       "4          12_01      12_02              2               -100\n",
       "..           ...        ...            ...                ...\n",
       "285        86_02      86_01              2               -100\n",
       "286        87_01      31_01              2                120\n",
       "287        87_01      87_02              2               -100\n",
       "288        87_02      31_01              2                 60\n",
       "289        87_02      87_01              2               -100\n",
       "\n",
       "[290 rows x 4 columns]"
      ]
     },
     "metadata": {},
     "output_type": "display_data"
    }
   ],
   "source": [
    "display(transfers[transfers[\"min_transfer_time\"]!=1])"
   ]
  },
  {
   "cell_type": "code",
   "execution_count": 8,
   "metadata": {},
   "outputs": [],
   "source": [
    "import os\n",
    "import time\n",
    "import json\n",
    "\n",
    "from sayori.raptor import search_p2p_geojson, search_p2p_path\n",
    "from sayori.models import FeedPath, Feed"
   ]
  },
  {
   "cell_type": "code",
   "execution_count": 9,
   "metadata": {},
   "outputs": [],
   "source": [
    "def load_data_from_path() -> FeedPath:\n",
    "    feed_path = {\n",
    "        \"stops\": os.environ.get(\"STOPS_PATH\"),\n",
    "        \"trips\": os.environ.get(\"TRIPS_PATH\"),\n",
    "        \"stop_times\": os.environ.get(\"STOP_TIMES_PATH\"),\n",
    "        \"transfers\": os.environ.get(\"TRANSFERS_PATH\"),\n",
    "        \"calendar\": os.environ.get(\"CALENDAR_PATH\"),\n",
    "    }\n",
    "\n",
    "    return FeedPath.parse_obj(feed_path)\n",
    "\n",
    "feed_path = load_data_from_path()\n",
    "feed = Feed.from_feed_path(feed_path)"
   ]
  },
  {
   "cell_type": "code",
   "execution_count": 10,
   "metadata": {},
   "outputs": [
    {
     "name": "stdout",
     "output_type": "stream",
     "text": [
      "<class 'list'>\n",
      "<class 'list'>\n",
      "None\n"
     ]
    },
    {
     "data": {
      "text/html": [
       "<div><style>\n",
       ".dataframe > thead > tr > th,\n",
       ".dataframe > tbody > tr > td {\n",
       "  text-align: right;\n",
       "}\n",
       "</style>\n",
       "<small>shape: (100, 14)</small><table border=\"1\" class=\"dataframe\"><thead><tr><th>d_key</th><th>o_key</th><th>datetime</th><th>hour</th><th>move_count</th><th>weekday_holiday_flag</th><th>o_mesh_4</th><th>o_stop_name</th><th>o_agency</th><th>d_mesh_4</th><th>d_stop_name</th><th>d_agency</th><th>parameters</th><th>res</th></tr><tr><td>str</td><td>str</td><td>datetime[ns]</td><td>i32</td><td>i32</td><td>str</td><td>i64</td><td>str</td><td>str</td><td>i64</td><td>str</td><td>str</td><td>struct[7]</td><td>str</td></tr></thead><tbody><tr><td>&quot;54_01&quot;</td><td>&quot;70_01&quot;</td><td>2022-05-02 00:00:00</td><td>12</td><td>1</td><td>&quot;w&quot;</td><td>564070091</td><td>&quot;金池一丁目&quot;</td><td>&quot;yonezawa_city&quot;</td><td>564060873</td><td>&quot;西部こども園前&quot;</td><td>&quot;yonezawa_city&quot;</td><td>{[&quot;70_01&quot;],[&quot;54_01&quot;],&quot;2022-05-02&quot;,43200,1,false,null}</td><td>&quot;None&quot;</td></tr><tr><td>&quot;41_02&quot;</td><td>&quot;48_02&quot;</td><td>2022-05-13 00:00:00</td><td>13</td><td>1</td><td>&quot;h&quot;</td><td>564060982</td><td>&quot;上杉神社前&quot;</td><td>&quot;yonezawa_city&quot;</td><td>564060893</td><td>&quot;県営相生ｱﾊﾟｰﾄ東&quot;</td><td>&quot;yonezawa_city&quot;</td><td>{[&quot;48_02&quot;],[&quot;41_02&quot;],&quot;2022-05-13&quot;,46800,1,false,null}</td><td>&quot;{&#x27;type&#x27;: &#x27;Feat…</td></tr><tr><td>&quot;56_02&quot;</td><td>&quot;53_02&quot;</td><td>2022-05-04 00:00:00</td><td>10</td><td>1</td><td>&quot;w&quot;</td><td>564060874</td><td>&quot;愛宕小前&quot;</td><td>&quot;yonezawa_city&quot;</td><td>564060973</td><td>&quot;西部ｺﾐｭﾆﾃｨｾﾝﾀｰ前&quot;</td><td>&quot;yonezawa_city&quot;</td><td>{[&quot;53_02&quot;],[&quot;56_02&quot;],&quot;2022-05-04&quot;,36000,1,false,null}</td><td>&quot;{&#x27;type&#x27;: &#x27;Feat…</td></tr><tr><td>&quot;64_01&quot;</td><td>&quot;46_02&quot;</td><td>2022-05-13 00:00:00</td><td>15</td><td>1</td><td>&quot;h&quot;</td><td>564060884</td><td>&quot;大町一丁目&quot;</td><td>&quot;yonezawa_city&quot;</td><td>564070083</td><td>&quot;信夫町&quot;</td><td>&quot;yonezawa_city&quot;</td><td>{[&quot;46_02&quot;],[&quot;64_01&quot;],&quot;2022-05-13&quot;,54000,1,false,null}</td><td>&quot;{&#x27;type&#x27;: &#x27;Feat…</td></tr><tr><td>&quot;53_02&quot;</td><td>&quot;1_01&quot;</td><td>2022-05-30 00:00:00</td><td>7</td><td>1</td><td>&quot;w&quot;</td><td>564061384</td><td>&quot;米沢スキー場前&quot;</td><td>&quot;yonezawa_city&quot;</td><td>564060874</td><td>&quot;愛宕小前&quot;</td><td>&quot;yonezawa_city&quot;</td><td>{[&quot;1_01&quot;],[&quot;53_02&quot;],&quot;2022-05-30&quot;,25200,1,false,null}</td><td>&quot;None&quot;</td></tr><tr><td>&quot;34_01&quot;</td><td>&quot;80_02&quot;</td><td>2022-05-07 00:00:00</td><td>22</td><td>1</td><td>&quot;h&quot;</td><td>564060693</td><td>&quot;太田町五丁目&quot;</td><td>&quot;yonezawa_city&quot;</td><td>564070082</td><td>&quot;中央三丁目&quot;</td><td>&quot;yonezawa_city&quot;</td><td>{[&quot;80_02&quot;],[&quot;34_01&quot;],&quot;2022-05-07&quot;,79200,1,false,null}</td><td>&quot;None&quot;</td></tr><tr><td>&quot;52_01&quot;</td><td>&quot;58_01&quot;</td><td>2022-05-26 00:00:00</td><td>21</td><td>1</td><td>&quot;h&quot;</td><td>564070072</td><td>&quot;すこやかセンター&quot;</td><td>&quot;yonezawa_city&quot;</td><td>564060872</td><td>&quot;二中前&quot;</td><td>&quot;yonezawa_city&quot;</td><td>{[&quot;58_01&quot;],[&quot;52_01&quot;],&quot;2022-05-26&quot;,75600,1,false,null}</td><td>&quot;{&#x27;type&#x27;: &#x27;Feat…</td></tr><tr><td>&quot;12_02&quot;</td><td>&quot;27_02&quot;</td><td>2022-05-31 00:00:00</td><td>17</td><td>1</td><td>&quot;w&quot;</td><td>564060992</td><td>&quot;米沢営業所&quot;</td><td>&quot;yonezawa_city&quot;</td><td>564061831</td><td>&quot;万世小学校前&quot;</td><td>&quot;yonezawa_city&quot;</td><td>{[&quot;27_02&quot;],[&quot;12_02&quot;],&quot;2022-05-31&quot;,61200,1,false,null}</td><td>&quot;None&quot;</td></tr><tr><td>&quot;86_02&quot;</td><td>&quot;52_02&quot;</td><td>2022-05-16 00:00:00</td><td>16</td><td>1</td><td>&quot;w&quot;</td><td>564060872</td><td>&quot;二中前&quot;</td><td>&quot;yonezawa_city&quot;</td><td>564060884</td><td>&quot;九里学園前&quot;</td><td>&quot;yonezawa_city&quot;</td><td>{[&quot;52_02&quot;],[&quot;86_02&quot;],&quot;2022-05-16&quot;,57600,1,false,null}</td><td>&quot;{&#x27;type&#x27;: &#x27;Feat…</td></tr><tr><td>&quot;12_02&quot;</td><td>&quot;28_01&quot;</td><td>2022-05-30 00:00:00</td><td>12</td><td>1</td><td>&quot;w&quot;</td><td>564060992</td><td>&quot;駅前四丁目&quot;</td><td>&quot;yonezawa_city&quot;</td><td>564061831</td><td>&quot;万世小学校前&quot;</td><td>&quot;yonezawa_city&quot;</td><td>{[&quot;28_01&quot;],[&quot;12_02&quot;],&quot;2022-05-30&quot;,43200,1,false,null}</td><td>&quot;None&quot;</td></tr><tr><td>&quot;87_02&quot;</td><td>&quot;67_01&quot;</td><td>2022-05-11 00:00:00</td><td>14</td><td>1</td><td>&quot;w&quot;</td><td>564070093</td><td>&quot;年金事務所西&quot;</td><td>&quot;yonezawa_city&quot;</td><td>564060982</td><td>&quot;門東町&quot;</td><td>&quot;yonezawa_city&quot;</td><td>{[&quot;67_01&quot;],[&quot;87_02&quot;],&quot;2022-05-11&quot;,50400,1,false,null}</td><td>&quot;None&quot;</td></tr><tr><td>&quot;81_01&quot;</td><td>&quot;67_01&quot;</td><td>2022-05-18 00:00:00</td><td>10</td><td>1</td><td>&quot;w&quot;</td><td>564070093</td><td>&quot;年金事務所西&quot;</td><td>&quot;yonezawa_city&quot;</td><td>564060791</td><td>&quot;興望館前&quot;</td><td>&quot;yonezawa_city&quot;</td><td>{[&quot;67_01&quot;],[&quot;81_01&quot;],&quot;2022-05-18&quot;,36000,1,false,null}</td><td>&quot;None&quot;</td></tr><tr><td>&hellip;</td><td>&hellip;</td><td>&hellip;</td><td>&hellip;</td><td>&hellip;</td><td>&hellip;</td><td>&hellip;</td><td>&hellip;</td><td>&hellip;</td><td>&hellip;</td><td>&hellip;</td><td>&hellip;</td><td>&hellip;</td><td>&hellip;</td></tr><tr><td>&quot;22_01&quot;</td><td>&quot;81_01&quot;</td><td>2022-06-16 00:00:00</td><td>7</td><td>1</td><td>&quot;h&quot;</td><td>564060791</td><td>&quot;興望館前&quot;</td><td>&quot;yonezawa_city&quot;</td><td>564061714</td><td>&quot;桑山団地口&quot;</td><td>&quot;yonezawa_city&quot;</td><td>{[&quot;81_01&quot;],[&quot;22_01&quot;],&quot;2022-06-16&quot;,25200,1,false,null}</td><td>&quot;None&quot;</td></tr><tr><td>&quot;48_02&quot;</td><td>&quot;62_01&quot;</td><td>2022-06-17 00:00:00</td><td>18</td><td>1</td><td>&quot;h&quot;</td><td>564070082</td><td>&quot;中央四丁目&quot;</td><td>&quot;yonezawa_city&quot;</td><td>564060982</td><td>&quot;上杉神社前&quot;</td><td>&quot;yonezawa_city&quot;</td><td>{[&quot;62_01&quot;],[&quot;48_02&quot;],&quot;2022-06-17&quot;,64800,1,false,null}</td><td>&quot;{&#x27;type&#x27;: &#x27;Feat…</td></tr><tr><td>&quot;83_01&quot;</td><td>&quot;8_01&quot;</td><td>2022-06-17 00:00:00</td><td>15</td><td>1</td><td>&quot;h&quot;</td><td>564061634</td><td>&quot;松林寺口&quot;</td><td>&quot;yonezawa_city&quot;</td><td>564060793</td><td>&quot;太田町二丁目&quot;</td><td>&quot;yonezawa_city&quot;</td><td>{[&quot;8_01&quot;],[&quot;83_01&quot;],&quot;2022-06-17&quot;,54000,1,false,null}</td><td>&quot;None&quot;</td></tr><tr><td>&quot;13_01&quot;</td><td>&quot;8_01&quot;</td><td>2022-06-25 00:00:00</td><td>11</td><td>1</td><td>&quot;h&quot;</td><td>564061634</td><td>&quot;松林寺口&quot;</td><td>&quot;yonezawa_city&quot;</td><td>564061822</td><td>&quot;牛森&quot;</td><td>&quot;yonezawa_city&quot;</td><td>{[&quot;8_01&quot;],[&quot;13_01&quot;],&quot;2022-06-25&quot;,39600,1,false,null}</td><td>&quot;{&#x27;type&#x27;: &#x27;Feat…</td></tr><tr><td>&quot;11_01&quot;</td><td>&quot;30_01&quot;</td><td>2022-06-22 00:00:00</td><td>15</td><td>1</td><td>&quot;w&quot;</td><td>564060991</td><td>&quot;大町&quot;</td><td>&quot;yonezawa_city&quot;</td><td>564061831</td><td>&quot;テクノセンター前&quot;</td><td>&quot;yonezawa_city&quot;</td><td>{[&quot;30_01&quot;],[&quot;11_01&quot;],&quot;2022-06-22&quot;,54000,1,false,null}</td><td>&quot;None&quot;</td></tr><tr><td>&quot;47_01&quot;</td><td>&quot;49_02&quot;</td><td>2022-06-06 00:00:00</td><td>19</td><td>1</td><td>&quot;w&quot;</td><td>564060884</td><td>&quot;城南一丁目&quot;</td><td>&quot;yonezawa_city&quot;</td><td>564060884</td><td>&quot;税務署前&quot;</td><td>&quot;yonezawa_city&quot;</td><td>{[&quot;49_02&quot;],[&quot;47_01&quot;],&quot;2022-06-06&quot;,68400,1,false,null}</td><td>&quot;{&#x27;type&#x27;: &#x27;Feat…</td></tr><tr><td>&quot;85_01&quot;</td><td>&quot;54_01&quot;</td><td>2022-06-14 00:00:00</td><td>11</td><td>1</td><td>&quot;w&quot;</td><td>564060873</td><td>&quot;西部こども園前&quot;</td><td>&quot;yonezawa_city&quot;</td><td>564060882</td><td>&quot;南部小前&quot;</td><td>&quot;yonezawa_city&quot;</td><td>{[&quot;54_01&quot;],[&quot;85_01&quot;],&quot;2022-06-14&quot;,39600,1,false,null}</td><td>&quot;{&#x27;type&#x27;: &#x27;Feat…</td></tr><tr><td>&quot;31_01&quot;</td><td>&quot;21_01&quot;</td><td>2022-06-09 00:00:00</td><td>11</td><td>1</td><td>&quot;h&quot;</td><td>564061812</td><td>&quot;金谷口&quot;</td><td>&quot;yonezawa_city&quot;</td><td>564060982</td><td>&quot;ナセＢＡ前&quot;</td><td>&quot;yonezawa_city&quot;</td><td>{[&quot;21_01&quot;],[&quot;31_01&quot;],&quot;2022-06-09&quot;,39600,1,false,null}</td><td>&quot;{&#x27;type&#x27;: &#x27;Feat…</td></tr><tr><td>&quot;65_01&quot;</td><td>&quot;12_01&quot;</td><td>2022-06-05 00:00:00</td><td>7</td><td>1</td><td>&quot;w&quot;</td><td>564061831</td><td>&quot;万世小学校前&quot;</td><td>&quot;yonezawa_city&quot;</td><td>564070083</td><td>&quot;総合公園口&quot;</td><td>&quot;yonezawa_city&quot;</td><td>{[&quot;12_01&quot;],[&quot;65_01&quot;],&quot;2022-06-05&quot;,25200,1,false,null}</td><td>&quot;None&quot;</td></tr><tr><td>&quot;87_01&quot;</td><td>&quot;76_01&quot;</td><td>2022-06-19 00:00:00</td><td>11</td><td>1</td><td>&quot;w&quot;</td><td>564061604</td><td>&quot;通町三丁目&quot;</td><td>&quot;yonezawa_city&quot;</td><td>564060982</td><td>&quot;門東町&quot;</td><td>&quot;yonezawa_city&quot;</td><td>{[&quot;76_01&quot;],[&quot;87_01&quot;],&quot;2022-06-19&quot;,39600,1,false,null}</td><td>&quot;None&quot;</td></tr><tr><td>&quot;12_01&quot;</td><td>&quot;19_01&quot;</td><td>2022-06-11 00:00:00</td><td>22</td><td>1</td><td>&quot;h&quot;</td><td>564061914</td><td>&quot;米工前&quot;</td><td>&quot;yonezawa_city&quot;</td><td>564061831</td><td>&quot;万世小学校前&quot;</td><td>&quot;yonezawa_city&quot;</td><td>{[&quot;19_01&quot;],[&quot;12_01&quot;],&quot;2022-06-11&quot;,79200,1,false,null}</td><td>&quot;None&quot;</td></tr><tr><td>&quot;81_01&quot;</td><td>&quot;53_01&quot;</td><td>2022-06-08 00:00:00</td><td>21</td><td>1</td><td>&quot;w&quot;</td><td>564060874</td><td>&quot;愛宕小前&quot;</td><td>&quot;yonezawa_city&quot;</td><td>564060791</td><td>&quot;興望館前&quot;</td><td>&quot;yonezawa_city&quot;</td><td>{[&quot;53_01&quot;],[&quot;81_01&quot;],&quot;2022-06-08&quot;,75600,1,false,null}</td><td>&quot;None&quot;</td></tr></tbody></table></div>"
      ],
      "text/plain": [
       "shape: (100, 14)\n",
       "┌───────┬───────┬──────────────┬──────┬───┬──────────────┬─────────────┬─────────────┬─────────────┐\n",
       "│ d_key ┆ o_key ┆ datetime     ┆ hour ┆ … ┆ d_stop_name  ┆ d_agency    ┆ parameters  ┆ res         │\n",
       "│ ---   ┆ ---   ┆ ---          ┆ ---  ┆   ┆ ---          ┆ ---         ┆ ---         ┆ ---         │\n",
       "│ str   ┆ str   ┆ datetime[ns] ┆ i32  ┆   ┆ str          ┆ str         ┆ struct[7]   ┆ str         │\n",
       "╞═══════╪═══════╪══════════════╪══════╪═══╪══════════════╪═════════════╪═════════════╪═════════════╡\n",
       "│ 54_01 ┆ 70_01 ┆ 2022-05-02   ┆ 12   ┆ … ┆ 西部こども園 ┆ yonezawa_ci ┆ {[\"70_01\"], ┆ None        │\n",
       "│       ┆       ┆ 00:00:00     ┆      ┆   ┆ 前           ┆ ty          ┆ [\"54_01\"],\" ┆             │\n",
       "│       ┆       ┆              ┆      ┆   ┆              ┆             ┆ 2022-05-02… ┆             │\n",
       "│ 41_02 ┆ 48_02 ┆ 2022-05-13   ┆ 13   ┆ … ┆ 県営相生ｱﾊﾟｰ ┆ yonezawa_ci ┆ {[\"48_02\"], ┆ {'type':    │\n",
       "│       ┆       ┆ 00:00:00     ┆      ┆   ┆ ﾄ東          ┆ ty          ┆ [\"41_02\"],\" ┆ 'FeatureCol │\n",
       "│       ┆       ┆              ┆      ┆   ┆              ┆             ┆ 2022-05-13… ┆ lection',   │\n",
       "│       ┆       ┆              ┆      ┆   ┆              ┆             ┆             ┆ 'f…         │\n",
       "│ 56_02 ┆ 53_02 ┆ 2022-05-04   ┆ 10   ┆ … ┆ 西部ｺﾐｭﾆﾃｨｾﾝ ┆ yonezawa_ci ┆ {[\"53_02\"], ┆ {'type':    │\n",
       "│       ┆       ┆ 00:00:00     ┆      ┆   ┆ ﾀｰ前         ┆ ty          ┆ [\"56_02\"],\" ┆ 'FeatureCol │\n",
       "│       ┆       ┆              ┆      ┆   ┆              ┆             ┆ 2022-05-04… ┆ lection',   │\n",
       "│       ┆       ┆              ┆      ┆   ┆              ┆             ┆             ┆ 'f…         │\n",
       "│ 64_01 ┆ 46_02 ┆ 2022-05-13   ┆ 15   ┆ … ┆ 信夫町       ┆ yonezawa_ci ┆ {[\"46_02\"], ┆ {'type':    │\n",
       "│       ┆       ┆ 00:00:00     ┆      ┆   ┆              ┆ ty          ┆ [\"64_01\"],\" ┆ 'FeatureCol │\n",
       "│       ┆       ┆              ┆      ┆   ┆              ┆             ┆ 2022-05-13… ┆ lection',   │\n",
       "│       ┆       ┆              ┆      ┆   ┆              ┆             ┆             ┆ 'f…         │\n",
       "│ …     ┆ …     ┆ …            ┆ …    ┆ … ┆ …            ┆ …           ┆ …           ┆ …           │\n",
       "│ 65_01 ┆ 12_01 ┆ 2022-06-05   ┆ 7    ┆ … ┆ 総合公園口   ┆ yonezawa_ci ┆ {[\"12_01\"], ┆ None        │\n",
       "│       ┆       ┆ 00:00:00     ┆      ┆   ┆              ┆ ty          ┆ [\"65_01\"],\" ┆             │\n",
       "│       ┆       ┆              ┆      ┆   ┆              ┆             ┆ 2022-06-05… ┆             │\n",
       "│ 87_01 ┆ 76_01 ┆ 2022-06-19   ┆ 11   ┆ … ┆ 門東町       ┆ yonezawa_ci ┆ {[\"76_01\"], ┆ None        │\n",
       "│       ┆       ┆ 00:00:00     ┆      ┆   ┆              ┆ ty          ┆ [\"87_01\"],\" ┆             │\n",
       "│       ┆       ┆              ┆      ┆   ┆              ┆             ┆ 2022-06-19… ┆             │\n",
       "│ 12_01 ┆ 19_01 ┆ 2022-06-11   ┆ 22   ┆ … ┆ 万世小学校前 ┆ yonezawa_ci ┆ {[\"19_01\"], ┆ None        │\n",
       "│       ┆       ┆ 00:00:00     ┆      ┆   ┆              ┆ ty          ┆ [\"12_01\"],\" ┆             │\n",
       "│       ┆       ┆              ┆      ┆   ┆              ┆             ┆ 2022-06-11… ┆             │\n",
       "│ 81_01 ┆ 53_01 ┆ 2022-06-08   ┆ 21   ┆ … ┆ 興望館前     ┆ yonezawa_ci ┆ {[\"53_01\"], ┆ None        │\n",
       "│       ┆       ┆ 00:00:00     ┆      ┆   ┆              ┆ ty          ┆ [\"81_01\"],\" ┆             │\n",
       "│       ┆       ┆              ┆      ┆   ┆              ┆             ┆ 2022-06-08… ┆             │\n",
       "└───────┴───────┴──────────────┴──────┴───┴──────────────┴─────────────┴─────────────┴─────────────┘"
      ]
     },
     "execution_count": 10,
     "metadata": {},
     "output_type": "execute_result"
    }
   ],
   "source": [
    "# pd_ods = ods_parameters.to_pandas()\n",
    "ods_parameters_res = ods_parameters.head(100).with_columns(\n",
    "    pl.col(\"parameters\").apply(lambda x:str(search_p2p_geojson(feed,x))).alias(\"res\")\n",
    ")\n",
    "# pl.col(\"parameters\").apply(lambda x: x['parameters'])\n",
    "# req = {\n",
    "#         \"origin_stop_ids\": [\"26_01\"],\n",
    "#         \"destination_stop_ids\": [\"42_01\"],\n",
    "#         \"specified_date\": \"2022-06-20\",\n",
    "#         \"specified_secs\": 80000,\n",
    "#         \"transfers_limit\": 1,\n",
    "#         \"is_reverse_search\": True,\n",
    "#         \"available_trip_ids\": None\n",
    "#     }\n",
    "res = ods_parameters[\"parameters\"][0]\n",
    "print(type(ods_parameters[\"parameters\"][0][\"origin_stop_ids\"]))\n",
    "print(type(res[\"origin_stop_ids\"]))\n",
    "res = search_p2p_geojson(feed, res)\n",
    "print(res)\n",
    "# test = ods_parameters.with_columns(pl.lit(str(res)).alias('test'))\n",
    "ods_parameters_res\n",
    "# .filter(pl.col(\"res\").is_not_null())"
   ]
  },
  {
   "cell_type": "code",
   "execution_count": 11,
   "metadata": {},
   "outputs": [
    {
     "name": "stdout",
     "output_type": "stream",
     "text": [
      "100\n",
      "41\n"
     ]
    }
   ],
   "source": [
    "print(len(ods_parameters_res))\n",
    "print(len(ods_parameters_res.filter(pl.col(\"res\")!='None')))"
   ]
  },
  {
   "cell_type": "code",
   "execution_count": 465,
   "metadata": {},
   "outputs": [],
   "source": [
    "\n",
    "ods_parameters_res.drop(\"parameters\").write_csv(\"ods.csv\")"
   ]
  },
  {
   "cell_type": "code",
   "execution_count": null,
   "metadata": {},
   "outputs": [],
   "source": []
  }
 ],
 "metadata": {
  "kernelspec": {
   "display_name": ".venv",
   "language": "python",
   "name": "python3"
  },
  "language_info": {
   "codemirror_mode": {
    "name": "ipython",
    "version": 3
   },
   "file_extension": ".py",
   "mimetype": "text/x-python",
   "name": "python",
   "nbconvert_exporter": "python",
   "pygments_lexer": "ipython3",
   "version": "3.11.5"
  }
 },
 "nbformat": 4,
 "nbformat_minor": 2
}
